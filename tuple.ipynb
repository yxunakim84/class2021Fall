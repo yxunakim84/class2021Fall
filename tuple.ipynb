{
  "nbformat": 4,
  "nbformat_minor": 0,
  "metadata": {
    "colab": {
      "name": "tuple.ipynb",
      "provenance": [],
      "collapsed_sections": [],
      "authorship_tag": "ABX9TyOKQc4AUgEy4wPeLl476yS9",
      "include_colab_link": true
    },
    "kernelspec": {
      "name": "python3",
      "display_name": "Python 3"
    },
    "language_info": {
      "name": "python"
    }
  },
  "cells": [
    {
      "cell_type": "markdown",
      "metadata": {
        "id": "view-in-github",
        "colab_type": "text"
      },
      "source": [
        "<a href=\"https://colab.research.google.com/github/yxunakim84/class2021Fall/blob/main/tuple.ipynb\" target=\"_parent\"><img src=\"https://colab.research.google.com/assets/colab-badge.svg\" alt=\"Open In Colab\"/></a>"
      ]
    },
    {
      "cell_type": "markdown",
      "metadata": {
        "id": "4oknRXF1jv7W"
      },
      "source": [
        "## **튜플은 어떻게 만들까?**"
      ]
    },
    {
      "cell_type": "markdown",
      "metadata": {
        "id": "bh2WIHGSj2-V"
      },
      "source": [
        "튜플(tuple)은 몇 가지 점을 제외하곤 리스트와 거의 비슷하며 리스트와 다른 점은 다음과 같다.\n",
        "\n",
        "* 리스트는 [ ]으로 둘러싸지만 튜플은 ( )으로 둘러싼다.\n",
        "* 리스트는 그 값의 생성, 삭제, 수정이 가능하지만 튜플은 그 값을 바꿀 수 없다."
      ]
    },
    {
      "cell_type": "markdown",
      "metadata": {
        "id": "Y9no2S5sj_HH"
      },
      "source": [
        ">>\n",
        "\n",
        "```\n",
        ">>> t1 = ()\n",
        ">>> t2 = (1,)\n",
        ">>> t3 = (1, 2, 3)\n",
        ">>> t4 = 1, 2, 3\n",
        ">>> t5 = ('a', 'b', ('ab', 'cd'))\n",
        "```\n"
      ]
    },
    {
      "cell_type": "markdown",
      "metadata": {
        "id": "gt-qCLOSkQJI"
      },
      "source": [
        "## **튜플 만들 때 주의할 사항**"
      ]
    },
    {
      "cell_type": "markdown",
      "metadata": {
        "id": "B9zWvB1mkeKO"
      },
      "source": [
        "**📌  t2 = (1,)처럼 단지 1개의 요소만을 가질 때는 요소 뒤에 콤마(,)를 반드시 붙여야 한다.**\n",
        "```\n",
        "t2 = (1,)\n",
        "t2 = 'a',\n",
        "```\n",
        "**📌 t4 = 1, 2, 3처럼 괄호( )를 생략해도 무방하다.**"
      ]
    },
    {
      "cell_type": "code",
      "metadata": {
        "colab": {
          "base_uri": "https://localhost:8080/"
        },
        "id": "Ao61lRfZlrUS",
        "outputId": "4a29f30b-097a-46b6-cd3f-6040e76dde73"
      },
      "source": [
        "t1 = 'a',\n",
        "type(t1)"
      ],
      "execution_count": null,
      "outputs": [
        {
          "output_type": "execute_result",
          "data": {
            "text/plain": [
              "tuple"
            ]
          },
          "metadata": {},
          "execution_count": 1
        }
      ]
    },
    {
      "cell_type": "code",
      "metadata": {
        "colab": {
          "base_uri": "https://localhost:8080/"
        },
        "id": "v3O1wljolrKX",
        "outputId": "68957f72-0ae9-49d6-d443-f5b117640754"
      },
      "source": [
        "t2 = ('a')\n",
        "type(t2)"
      ],
      "execution_count": null,
      "outputs": [
        {
          "output_type": "execute_result",
          "data": {
            "text/plain": [
              "str"
            ]
          },
          "metadata": {},
          "execution_count": 2
        }
      ]
    },
    {
      "cell_type": "markdown",
      "metadata": {
        "id": "mVVQdXVnl_dF"
      },
      "source": [
        "## **튜플 생성하는 방법**"
      ]
    },
    {
      "cell_type": "markdown",
      "metadata": {
        "id": "gxorwHZtmxGe"
      },
      "source": [
        "* 빈 튜플 생성"
      ]
    },
    {
      "cell_type": "code",
      "metadata": {
        "colab": {
          "base_uri": "https://localhost:8080/"
        },
        "id": "y0Idldj8mm_W",
        "outputId": "92010f7b-8c3f-4a29-f27b-aa065a815c15"
      },
      "source": [
        "t = tuple()\n",
        "t"
      ],
      "execution_count": null,
      "outputs": [
        {
          "output_type": "execute_result",
          "data": {
            "text/plain": [
              "()"
            ]
          },
          "metadata": {},
          "execution_count": 4
        }
      ]
    },
    {
      "cell_type": "markdown",
      "metadata": {
        "id": "yf_V3H78miac"
      },
      "source": [
        "* 문자열, 리스트, 튜플 같은 시퀀스\n",
        "\n",
        ": 시퀀스를 원소로 갖는 튜플 생성"
      ]
    },
    {
      "cell_type": "code",
      "metadata": {
        "colab": {
          "base_uri": "https://localhost:8080/"
        },
        "id": "ZKKyvwK-m35t",
        "outputId": "d6563171-5b94-42f2-cc1c-15b3af6264b9"
      },
      "source": [
        "t = tuple('lupins')\n",
        "t"
      ],
      "execution_count": null,
      "outputs": [
        {
          "output_type": "execute_result",
          "data": {
            "text/plain": [
              "('l', 'u', 'p', 'i', 'n', 's')"
            ]
          },
          "metadata": {},
          "execution_count": 5
        }
      ]
    },
    {
      "cell_type": "markdown",
      "metadata": {
        "id": "ZBVukQXvocZl"
      },
      "source": [
        "## **Error 나는 경우(삭제, 변경)**"
      ]
    },
    {
      "cell_type": "markdown",
      "metadata": {
        "id": "BxcVsc5Loi9J"
      },
      "source": [
        "### **1. 튜플 요솟값을 삭제하려 할 때**\n",
        "```\n",
        ">>> t1 = (1, 2, 'a', 'b')\n",
        ">>> del t1[0]\n",
        "```\n",
        "```\n",
        "Traceback (most recent call last):\n",
        "  File \"<stdin>\", line 1, in <module>\n",
        "TypeError: 'tuple' object doesn't support item deletion\n",
        "```\n",
        "\n",
        "### **2. 튜플 요솟값을 변경하려 할 때**\n",
        "```\n",
        ">>> t1 = (1, 2, 'a', 'b')\n",
        ">>> t1[0] = 'c'\n",
        "```\n",
        "```\n",
        "Traceback (most recent call last):\n",
        "  File \"<stdin>\", line 1, in <module>\n",
        "TypeError: 'tuple' object does not support item assignment\n",
        "```\n",
        "\n",
        "\n",
        "\n",
        "\n"
      ]
    },
    {
      "cell_type": "markdown",
      "metadata": {
        "id": "zKzIxBcopSHp"
      },
      "source": [
        "## **📌 Error 없이 튜플 값을 변경하려면?**"
      ]
    },
    {
      "cell_type": "markdown",
      "metadata": {
        "id": "AHJKnG1kpY4h"
      },
      "source": [
        "튜플을 다른 튜플로 대체한다 --> 새로만든 튜플을 참조하게 한다."
      ]
    },
    {
      "cell_type": "code",
      "metadata": {
        "colab": {
          "base_uri": "https://localhost:8080/"
        },
        "id": "WcP3VKxNpdTa",
        "outputId": "cb04afaa-9d81-499e-fb39-c6ff69f7627b"
      },
      "source": [
        "t = ('a', 'b', 'c', 'd', 'e')\n",
        "print(t)\n",
        "print(id(t))\n",
        "\n",
        "t = ('A',) + t[1:]\n",
        "# t = 'A', + t[1:] 라고 치면 Error\n",
        "print(t)\n",
        "print(id(t))"
      ],
      "execution_count": null,
      "outputs": [
        {
          "output_type": "stream",
          "name": "stdout",
          "text": [
            "('a', 'b', 'c', 'd', 'e')\n",
            "140249709746128\n",
            "('A', 'b', 'c', 'd', 'e')\n",
            "140249709745648\n"
          ]
        }
      ]
    },
    {
      "cell_type": "markdown",
      "metadata": {
        "id": "jgyJJ784roOf"
      },
      "source": [
        "## **관계연산자**"
      ]
    },
    {
      "cell_type": "markdown",
      "metadata": {
        "id": "Rya1frzDr4AS"
      },
      "source": [
        "각 시퀀스의 첫 번째 원소부터 비교를 시작\n",
        "\n",
        "원소의 크기가 같으면, 다음 원소 비교"
      ]
    },
    {
      "cell_type": "code",
      "metadata": {
        "colab": {
          "base_uri": "https://localhost:8080/"
        },
        "id": "5Fh7sdgBsWxR",
        "outputId": "2cacc822-b2e7-4df7-bc98-5b11dd729384"
      },
      "source": [
        "(0, 1, 2) < (0, 3, 1)"
      ],
      "execution_count": null,
      "outputs": [
        {
          "output_type": "execute_result",
          "data": {
            "text/plain": [
              "True"
            ]
          },
          "metadata": {},
          "execution_count": 14
        }
      ]
    },
    {
      "cell_type": "code",
      "metadata": {
        "colab": {
          "base_uri": "https://localhost:8080/"
        },
        "id": "lVrUOXt9sbSo",
        "outputId": "0cf4ca27-6382-44cd-a565-13671cdec036"
      },
      "source": [
        "(0, 1, 200000) < (0, 3, 4)\n",
        "# 그 다음 원소가 더 크더라도, 순서대로 진행되므로 해당 원소에서 크기 결정됨"
      ],
      "execution_count": null,
      "outputs": [
        {
          "output_type": "execute_result",
          "data": {
            "text/plain": [
              "True"
            ]
          },
          "metadata": {},
          "execution_count": 15
        }
      ]
    },
    {
      "cell_type": "code",
      "metadata": {
        "colab": {
          "base_uri": "https://localhost:8080/",
          "height": 172
        },
        "id": "iIy7JmtCs1R_",
        "outputId": "9d7c955c-aa80-48ce-b054-7adcda1733e8"
      },
      "source": [
        "(0, 1, [5, 7]) < (0, 1, 5, 7)"
      ],
      "execution_count": null,
      "outputs": [
        {
          "output_type": "error",
          "ename": "TypeError",
          "evalue": "ignored",
          "traceback": [
            "\u001b[0;31m---------------------------------------------------------------------------\u001b[0m",
            "\u001b[0;31mTypeError\u001b[0m                                 Traceback (most recent call last)",
            "\u001b[0;32m<ipython-input-16-e844ad0f6be9>\u001b[0m in \u001b[0;36m<module>\u001b[0;34m()\u001b[0m\n\u001b[0;32m----> 1\u001b[0;31m \u001b[0;34m(\u001b[0m\u001b[0;36m0\u001b[0m\u001b[0;34m,\u001b[0m \u001b[0;36m1\u001b[0m\u001b[0;34m,\u001b[0m \u001b[0;34m[\u001b[0m\u001b[0;36m5\u001b[0m\u001b[0;34m,\u001b[0m \u001b[0;36m7\u001b[0m\u001b[0;34m]\u001b[0m\u001b[0;34m)\u001b[0m \u001b[0;34m<\u001b[0m \u001b[0;34m(\u001b[0m\u001b[0;36m0\u001b[0m\u001b[0;34m,\u001b[0m \u001b[0;36m1\u001b[0m\u001b[0;34m,\u001b[0m \u001b[0;36m5\u001b[0m\u001b[0;34m,\u001b[0m \u001b[0;36m7\u001b[0m\u001b[0;34m)\u001b[0m\u001b[0;34m\u001b[0m\u001b[0;34m\u001b[0m\u001b[0m\n\u001b[0m",
            "\u001b[0;31mTypeError\u001b[0m: '<' not supported between instances of 'list' and 'int'"
          ]
        }
      ]
    },
    {
      "cell_type": "markdown",
      "metadata": {
        "id": "v-YN1SJxN2jr"
      },
      "source": [
        "## **Tuple Assignment**"
      ]
    },
    {
      "cell_type": "markdown",
      "metadata": {
        "id": "Rhc73FMUJAAZ"
      },
      "source": [
        "# * **swap**"
      ]
    },
    {
      "cell_type": "markdown",
      "metadata": {
        "id": "XXfxIKGpJTbW"
      },
      "source": [
        "* 왼쪽에는 변수의 튜플, 오른쪽에는 표현식의 튜플\n",
        "* 오른쪽의 표현식이 sequence 형태여도(string, list, tuple) 가능\n",
        "* **📌 왼쪽의 개수와 오른쪽의 개수가 반드시 같아야함**"
      ]
    },
    {
      "cell_type": "code",
      "metadata": {
        "colab": {
          "base_uri": "https://localhost:8080/"
        },
        "id": "JnDgWr7XI-et",
        "outputId": "d7fa07e1-583d-43f5-ad87-0ee3f7363aa7"
      },
      "source": [
        "a = 3\n",
        "b = 14\n",
        "\n",
        "#swap\n",
        "a, b = b, a\n",
        "\n",
        "print(a)\n",
        "print(b)"
      ],
      "execution_count": null,
      "outputs": [
        {
          "output_type": "stream",
          "name": "stdout",
          "text": [
            "14\n",
            "3\n"
          ]
        }
      ]
    },
    {
      "cell_type": "code",
      "metadata": {
        "colab": {
          "base_uri": "https://localhost:8080/"
        },
        "id": "xHNu66t5Jn4y",
        "outputId": "b04f0046-31c0-43b7-9c02-609fcc82ae50"
      },
      "source": [
        "a = [1, 2, 3]\n",
        "b = ('s', 't')\n",
        "\n",
        "#swap\n",
        "a, b = b, a\n",
        "\n",
        "print(a)\n",
        "print(b)"
      ],
      "execution_count": null,
      "outputs": [
        {
          "output_type": "stream",
          "name": "stdout",
          "text": [
            "('s', 't')\n",
            "[1, 2, 3]\n"
          ]
        }
      ]
    },
    {
      "cell_type": "markdown",
      "metadata": {
        "id": "ZTMwkjlDOOTu"
      },
      "source": [
        "## * **assigment**"
      ]
    },
    {
      "cell_type": "markdown",
      "metadata": {
        "id": "vmbFfsSZLpe6"
      },
      "source": [
        " **📌 왼쪽의 개수와 오른쪽의 개수가 반드시 같아야함**"
      ]
    },
    {
      "cell_type": "code",
      "metadata": {
        "colab": {
          "base_uri": "https://localhost:8080/",
          "height": 190
        },
        "id": "u556--OvKAyl",
        "outputId": "1b97c127-3fb1-4545-d335-2bd61790110b"
      },
      "source": [
        "a, b = 1, 2, 3\n",
        "print(a)"
      ],
      "execution_count": null,
      "outputs": [
        {
          "output_type": "error",
          "ename": "ValueError",
          "evalue": "ignored",
          "traceback": [
            "\u001b[0;31m---------------------------------------------------------------------------\u001b[0m",
            "\u001b[0;31mValueError\u001b[0m                                Traceback (most recent call last)",
            "\u001b[0;32m<ipython-input-15-930f7102d400>\u001b[0m in \u001b[0;36m<module>\u001b[0;34m()\u001b[0m\n\u001b[0;32m----> 1\u001b[0;31m \u001b[0ma\u001b[0m\u001b[0;34m,\u001b[0m \u001b[0mb\u001b[0m \u001b[0;34m=\u001b[0m \u001b[0;36m1\u001b[0m\u001b[0;34m,\u001b[0m \u001b[0;36m2\u001b[0m\u001b[0;34m,\u001b[0m \u001b[0;36m3\u001b[0m\u001b[0;34m\u001b[0m\u001b[0;34m\u001b[0m\u001b[0m\n\u001b[0m\u001b[1;32m      2\u001b[0m \u001b[0mprint\u001b[0m\u001b[0;34m(\u001b[0m\u001b[0ma\u001b[0m\u001b[0;34m)\u001b[0m\u001b[0;34m\u001b[0m\u001b[0;34m\u001b[0m\u001b[0m\n",
            "\u001b[0;31mValueError\u001b[0m: too many values to unpack (expected 2)"
          ]
        }
      ]
    },
    {
      "cell_type": "markdown",
      "metadata": {
        "id": "ooSKTNsFLybm"
      },
      "source": [
        "* 오른쪽의 표현식이 sequence 형태여도(string, list, tuple) 가능"
      ]
    },
    {
      "cell_type": "code",
      "metadata": {
        "colab": {
          "base_uri": "https://localhost:8080/"
        },
        "id": "8eCrlWbhL2Em",
        "outputId": "3c8ea97f-129e-4a31-c6cd-c2f70542c3f2"
      },
      "source": [
        "a = [1, 2, 3]\n",
        "b = {'a':1, 'b': 2}\n",
        "a, b = b, a\n",
        "print(a)\n",
        "print(b)"
      ],
      "execution_count": null,
      "outputs": [
        {
          "output_type": "stream",
          "name": "stdout",
          "text": [
            "{'a': 1, 'b': 2}\n",
            "[1, 2, 3]\n"
          ]
        }
      ]
    },
    {
      "cell_type": "markdown",
      "metadata": {
        "id": "DF8QU-R8Oomy"
      },
      "source": [
        "* 오른쪽의 표현식이 문자열인 경우\n",
        "> split : 문자열매서드\n",
        ">> return 값이 list"
      ]
    },
    {
      "cell_type": "code",
      "metadata": {
        "colab": {
          "base_uri": "https://localhost:8080/"
        },
        "id": "R1_hY-jZOmg2",
        "outputId": "7205946e-5898-4891-d188-d70d3a04e03d"
      },
      "source": [
        "addr = 'monty@python.org'\n",
        "uname, domain = addr.split('@')\n",
        "print(uname)\n",
        "print(domain)\n",
        "type(addr.split('@'))"
      ],
      "execution_count": null,
      "outputs": [
        {
          "output_type": "stream",
          "name": "stdout",
          "text": [
            "monty\n",
            "python.org\n"
          ]
        },
        {
          "output_type": "execute_result",
          "data": {
            "text/plain": [
              "list"
            ]
          },
          "metadata": {},
          "execution_count": 18
        }
      ]
    },
    {
      "cell_type": "markdown",
      "metadata": {
        "id": "PWN0Gn9mP5Uz"
      },
      "source": [
        "## **값을 반환하는 튜플의 내장함수**"
      ]
    },
    {
      "cell_type": "markdown",
      "metadata": {
        "id": "qbyx3bwYOqUX"
      },
      "source": [
        "### 1) **divmod 함수** \n",
        "\n",
        "> 나눗셈의 몫과 나머지를 반환\n",
        "\n",
        "> divmod 결과값의 type = tuple\n",
        "\n",
        "> 📌 divmod는 반드시 두 개의 변수를 받아야 함 (예외: * 사용)"
      ]
    },
    {
      "cell_type": "code",
      "metadata": {
        "colab": {
          "base_uri": "https://localhost:8080/"
        },
        "id": "X8fuiG-FQXZ_",
        "outputId": "13f9b01b-85c0-4b12-bac6-f78806bbea60"
      },
      "source": [
        "t = divmod(7, 3)\n",
        "t"
      ],
      "execution_count": null,
      "outputs": [
        {
          "output_type": "execute_result",
          "data": {
            "text/plain": [
              "(2, 1)"
            ]
          },
          "metadata": {},
          "execution_count": 19
        }
      ]
    },
    {
      "cell_type": "code",
      "metadata": {
        "colab": {
          "base_uri": "https://localhost:8080/"
        },
        "id": "O2P6xHqLQ5oi",
        "outputId": "32d71eff-9f5b-4e22-a0d8-56101d78225e"
      },
      "source": [
        "type(divmod(7, 3))"
      ],
      "execution_count": null,
      "outputs": [
        {
          "output_type": "execute_result",
          "data": {
            "text/plain": [
              "tuple"
            ]
          },
          "metadata": {},
          "execution_count": 21
        }
      ]
    },
    {
      "cell_type": "code",
      "metadata": {
        "colab": {
          "base_uri": "https://localhost:8080/"
        },
        "id": "koEwpZ-OQbzK",
        "outputId": "ef922519-f5e9-41fd-9bea-7014f9c6bf3e"
      },
      "source": [
        "quot, rem = divmod(7, 3)\n",
        "print(quot)\n",
        "print(rem)"
      ],
      "execution_count": null,
      "outputs": [
        {
          "output_type": "stream",
          "name": "stdout",
          "text": [
            "2\n",
            "1\n"
          ]
        }
      ]
    },
    {
      "cell_type": "markdown",
      "metadata": {
        "id": "6ZeUQ9GTH1-H"
      },
      "source": [
        "📌 **divmod 를 미리 선언한 변수를 하나로 사용하고 싶으면?**"
      ]
    },
    {
      "cell_type": "code",
      "metadata": {
        "colab": {
          "base_uri": "https://localhost:8080/",
          "height": 208
        },
        "id": "aKGeop5SHNE5",
        "outputId": "db8b3288-98d3-49d9-d1ac-f3ccbf03a051"
      },
      "source": [
        "t = (7, 3)\n",
        "divmod(t)\n",
        "# 오류"
      ],
      "execution_count": null,
      "outputs": [
        {
          "output_type": "error",
          "ename": "TypeError",
          "evalue": "ignored",
          "traceback": [
            "\u001b[0;31m---------------------------------------------------------------------------\u001b[0m",
            "\u001b[0;31mTypeError\u001b[0m                                 Traceback (most recent call last)",
            "\u001b[0;32m<ipython-input-9-0c3a9dc3c33d>\u001b[0m in \u001b[0;36m<module>\u001b[0;34m()\u001b[0m\n\u001b[1;32m      1\u001b[0m \u001b[0mt\u001b[0m \u001b[0;34m=\u001b[0m \u001b[0;34m(\u001b[0m\u001b[0;36m7\u001b[0m\u001b[0;34m,\u001b[0m \u001b[0;36m3\u001b[0m\u001b[0;34m)\u001b[0m\u001b[0;34m\u001b[0m\u001b[0;34m\u001b[0m\u001b[0m\n\u001b[0;32m----> 2\u001b[0;31m \u001b[0mdivmod\u001b[0m\u001b[0;34m(\u001b[0m\u001b[0mt\u001b[0m\u001b[0;34m)\u001b[0m\u001b[0;34m\u001b[0m\u001b[0;34m\u001b[0m\u001b[0m\n\u001b[0m\u001b[1;32m      3\u001b[0m \u001b[0;31m# 오류\u001b[0m\u001b[0;34m\u001b[0m\u001b[0;34m\u001b[0m\u001b[0;34m\u001b[0m\u001b[0m\n",
            "\u001b[0;31mTypeError\u001b[0m: divmod expected 2 arguments, got 1"
          ]
        }
      ]
    },
    {
      "cell_type": "markdown",
      "metadata": {
        "id": "fgMzXU6JIJBd"
      },
      "source": [
        "> 1) index로 접근한다."
      ]
    },
    {
      "cell_type": "code",
      "metadata": {
        "colab": {
          "base_uri": "https://localhost:8080/"
        },
        "id": "JsOhBm-VIFQS",
        "outputId": "ed0f3177-2a47-4c52-b407-06f6afa603b5"
      },
      "source": [
        "divmod(t[0], t[1])"
      ],
      "execution_count": null,
      "outputs": [
        {
          "output_type": "execute_result",
          "data": {
            "text/plain": [
              "(2, 1)"
            ]
          },
          "metadata": {},
          "execution_count": 10
        }
      ]
    },
    {
      "cell_type": "markdown",
      "metadata": {
        "id": "Y0HzpLLtINIl"
      },
      "source": [
        "> 2) * operator를 사용하여 scatter 처리한다."
      ]
    },
    {
      "cell_type": "code",
      "metadata": {
        "colab": {
          "base_uri": "https://localhost:8080/"
        },
        "id": "no4i0eeJITpm",
        "outputId": "64005e62-e78a-4b48-f9f2-f235c8e8cfff"
      },
      "source": [
        "divmod(*t)"
      ],
      "execution_count": null,
      "outputs": [
        {
          "output_type": "execute_result",
          "data": {
            "text/plain": [
              "(2, 1)"
            ]
          },
          "metadata": {},
          "execution_count": 11
        }
      ]
    },
    {
      "cell_type": "markdown",
      "metadata": {
        "id": "zFZJu0XbE8Hr"
      },
      "source": [
        "### **2) min(), max() 함수**\n",
        ": sequence가 주어졌을 때 최대값, 최소값을 반환해주는 내장함수\n",
        "\n",
        ": return값이 튜플"
      ]
    },
    {
      "cell_type": "code",
      "metadata": {
        "colab": {
          "base_uri": "https://localhost:8080/"
        },
        "id": "HNd642dJFEJD",
        "outputId": "bac57fa4-f144-4486-c122-004081a67e5a"
      },
      "source": [
        "def min_max(t):\n",
        "  return min(t), max(t)\n",
        "\n",
        "s = [1, 2, 3, 4, 5]\n",
        "min_max(s)"
      ],
      "execution_count": null,
      "outputs": [
        {
          "output_type": "execute_result",
          "data": {
            "text/plain": [
              "(1, 5)"
            ]
          },
          "metadata": {},
          "execution_count": 2
        }
      ]
    },
    {
      "cell_type": "markdown",
      "metadata": {
        "id": "N_e8XyclFwlZ"
      },
      "source": [
        "### *** operator : 여러 개의 변수를 받아 튜플 하나로 합쳐준다**"
      ]
    },
    {
      "cell_type": "code",
      "metadata": {
        "colab": {
          "base_uri": "https://localhost:8080/"
        },
        "id": "WtXr1CNjGt8U",
        "outputId": "cdc6e1ee-7fda-4acd-88ec-c63389c585b7"
      },
      "source": [
        "def printall(*args):\n",
        "  print(args)\n",
        "printall(1, 2.0, '3')"
      ],
      "execution_count": null,
      "outputs": [
        {
          "output_type": "stream",
          "name": "stdout",
          "text": [
            "(1, 2.0, '3')\n"
          ]
        }
      ]
    },
    {
      "cell_type": "code",
      "metadata": {
        "colab": {
          "base_uri": "https://localhost:8080/"
        },
        "id": "zLyzg4YBHSuC",
        "outputId": "2a6bb881-779d-4f08-8187-c5e18b54a9bc"
      },
      "source": [
        "t = (7, 3)\n",
        "#divmod(t)\n",
        "# divmod 변수가 두 개가 있어야 하는데 t 튜플 하나이므로 오류발생\n",
        "\n",
        "divmod(*t)\n",
        "# * operator를 사용하면 원소가 scatter되어 가능"
      ],
      "execution_count": null,
      "outputs": [
        {
          "output_type": "execute_result",
          "data": {
            "text/plain": [
              "(2, 1)"
            ]
          },
          "metadata": {},
          "execution_count": 6
        }
      ]
    },
    {
      "cell_type": "markdown",
      "metadata": {
        "id": "CuMScvXaKCIN"
      },
      "source": [
        "## **함수 별 argument 개수**"
      ]
    },
    {
      "cell_type": "markdown",
      "metadata": {
        "id": "czao75nWKG-7"
      },
      "source": [
        "1) **min(), max() : argument 개수 제한 x**"
      ]
    },
    {
      "cell_type": "code",
      "metadata": {
        "colab": {
          "base_uri": "https://localhost:8080/"
        },
        "id": "yMwHiQqWKWht",
        "outputId": "3de20b5a-602b-4064-f4fe-d3166a537d3f"
      },
      "source": [
        "max(1, 2, 3)"
      ],
      "execution_count": null,
      "outputs": [
        {
          "output_type": "execute_result",
          "data": {
            "text/plain": [
              "3"
            ]
          },
          "metadata": {},
          "execution_count": 12
        }
      ]
    },
    {
      "cell_type": "markdown",
      "metadata": {
        "id": "MYhzwSzcKR4a"
      },
      "source": [
        "2) **sum() : argument 최대 개수 2개**\n",
        "> 첫 번째 argument : list, tuple 처럼 sequence를 받아야 함\n",
        "> 두 번째 argument : 범위설정 (생략o)\n"
      ]
    },
    {
      "cell_type": "code",
      "metadata": {
        "id": "Kv61zYi6KVql"
      },
      "source": [
        "sum(1, 2, 3) # 튜플 세 개로 인식되어 Error"
      ],
      "execution_count": null,
      "outputs": []
    },
    {
      "cell_type": "code",
      "metadata": {
        "colab": {
          "base_uri": "https://localhost:8080/"
        },
        "id": "a_rqSPgSKzwr",
        "outputId": "117b59a6-9680-4426-e434-dae3656532c0"
      },
      "source": [
        "sum((1, 2, 3)) # 튜플 () 하나로 묶었으므로 작동"
      ],
      "execution_count": null,
      "outputs": [
        {
          "output_type": "execute_result",
          "data": {
            "text/plain": [
              "6"
            ]
          },
          "metadata": {},
          "execution_count": 13
        }
      ]
    },
    {
      "cell_type": "code",
      "metadata": {
        "colab": {
          "base_uri": "https://localhost:8080/"
        },
        "id": "YM-WguqVK6wO",
        "outputId": "72533cdd-96a8-473c-b8c5-395027bca917"
      },
      "source": [
        "sum([1, 2, 3]) # 리스트 [] 하나로 묶었으므로 작동"
      ],
      "execution_count": null,
      "outputs": [
        {
          "output_type": "execute_result",
          "data": {
            "text/plain": [
              "6"
            ]
          },
          "metadata": {},
          "execution_count": 14
        }
      ]
    },
    {
      "cell_type": "code",
      "metadata": {
        "colab": {
          "base_uri": "https://localhost:8080/",
          "height": 226
        },
        "id": "YwpjkJ1ELbLk",
        "outputId": "1e446ed2-8b96-417d-befe-d59ffd79c8c4"
      },
      "source": [
        "def sum_all(arg):\n",
        "  return sum(arg)\n",
        "\n",
        "t = (1, 2, 3)\n",
        "sum_all(t)\n",
        "# 미리 변수 설정으로 값을 할당한 경우 튜플 하나로 인식\n",
        "\n",
        "sum_all(1, 2, 3)\n",
        "# 오류; 튜플 세 개가 sum의 arg에 들어가므로 오류"
      ],
      "execution_count": null,
      "outputs": [
        {
          "output_type": "error",
          "ename": "TypeError",
          "evalue": "ignored",
          "traceback": [
            "\u001b[0;31m---------------------------------------------------------------------------\u001b[0m",
            "\u001b[0;31mTypeError\u001b[0m                                 Traceback (most recent call last)",
            "\u001b[0;32m<ipython-input-23-edddefe6fa24>\u001b[0m in \u001b[0;36m<module>\u001b[0;34m()\u001b[0m\n\u001b[1;32m      6\u001b[0m \u001b[0;31m# 미리 변수 설정으로 값을 할당한 경우 튜플 하나로 인식\u001b[0m\u001b[0;34m\u001b[0m\u001b[0;34m\u001b[0m\u001b[0;34m\u001b[0m\u001b[0m\n\u001b[1;32m      7\u001b[0m \u001b[0;34m\u001b[0m\u001b[0m\n\u001b[0;32m----> 8\u001b[0;31m \u001b[0msum_all\u001b[0m\u001b[0;34m(\u001b[0m\u001b[0;36m1\u001b[0m\u001b[0;34m,\u001b[0m \u001b[0;36m2\u001b[0m\u001b[0;34m,\u001b[0m \u001b[0;36m3\u001b[0m\u001b[0;34m)\u001b[0m\u001b[0;34m\u001b[0m\u001b[0;34m\u001b[0m\u001b[0m\n\u001b[0m\u001b[1;32m      9\u001b[0m \u001b[0;31m# 튜플 세 개가 sum의 arg에 들어가므로 오류\u001b[0m\u001b[0;34m\u001b[0m\u001b[0;34m\u001b[0m\u001b[0;34m\u001b[0m\u001b[0m\n",
            "\u001b[0;31mTypeError\u001b[0m: sum_all() takes 1 positional argument but 3 were given"
          ]
        }
      ]
    },
    {
      "cell_type": "code",
      "metadata": {
        "colab": {
          "base_uri": "https://localhost:8080/"
        },
        "id": "5rXbOaEDLkBf",
        "outputId": "cc03e069-e909-4e59-c9ea-b9da257c797d"
      },
      "source": [
        "def sum_all(*args):\n",
        "  return sum(args)\n",
        "sum_all(1, 2, 3)\n",
        "# * operator가 흩어져 있는 원소들을 하나의 tuple로 만들어줌\n",
        "# return값 꼭 써주기"
      ],
      "execution_count": null,
      "outputs": [
        {
          "output_type": "execute_result",
          "data": {
            "text/plain": [
              "6"
            ]
          },
          "metadata": {},
          "execution_count": 19
        }
      ]
    },
    {
      "cell_type": "markdown",
      "metadata": {
        "id": "MCj5mx7sXowk"
      },
      "source": [
        "The sum() function takes an iterable and returns the sum of items in it.\n",
        "\n",
        "Syntax:\n",
        "\n",
        "sum(iterable, [start]) -> number\n",
        "PARAMETER\tDESCRIPTION\n",
        "iterable (required)\tIterable item like string, list, dictionary etc.\n",
        "start (optional)\tAn optional numeric value added to the final result. It defaults to 0.\n",
        "The sum() function only works with numerical values, trying to use it with non-numeric type will result in an error.\n",
        "\n",
        "Here is an example:\n",
        "\n",
        " 1\n",
        " 2\n",
        " 3\n",
        " 4\n",
        " 5\n",
        " 6\n",
        " 7\n",
        " 8\n",
        " 9\n",
        "10\n",
        "11\n",
        "12\n",
        "13\n",
        ">>> \n",
        ">>> sum([1, 2, 3, 4, 5]) # sum values in a list\n",
        "15\n",
        ">>> \n",
        ">>> sum((1, 2, 3, 4, 5)) # sum values in a tuple\n",
        "15\n",
        ">>> \n",
        ">>> sum({1, 2, 3, 4, 5}) # sum values in a set\n",
        "15\n",
        ">>> \n",
        ">>> sum({1: \"one\", 2: \"two\", 3: \"three\"}) # sum values in a \n",
        "6\n",
        ">>>"
      ]
    },
    {
      "cell_type": "markdown",
      "metadata": {
        "id": "XL1W2r2LN6mA"
      },
      "source": [
        "## **zip** \n",
        "> ### **sequence 2개가 주어졌을 때 각각의 sequence를 맞물리도록 묶음**\n",
        "> sequence의 길이가 맞지 않더라도 오류나지 않음 (짧은 쪽에 맞춰 묶임)\n",
        "\n",
        "> iterator의 한 종류\n",
        ">> iterator는 a[0]처럼 인덱스로 접근할 수 x"
      ]
    },
    {
      "cell_type": "code",
      "metadata": {
        "colab": {
          "base_uri": "https://localhost:8080/"
        },
        "id": "OJFGQDfsNV6k",
        "outputId": "143f4de0-6475-48e2-a10f-67cd6394b5b0"
      },
      "source": [
        "s = 'abc'\n",
        "t = [0, 1, 2]\n",
        "zip(s, t)"
      ],
      "execution_count": null,
      "outputs": [
        {
          "output_type": "execute_result",
          "data": {
            "text/plain": [
              "<zip at 0x7f2691d66140>"
            ]
          },
          "metadata": {},
          "execution_count": 25
        }
      ]
    },
    {
      "cell_type": "markdown",
      "metadata": {
        "id": "gY_F0NlHQD17"
      },
      "source": [
        "> **zip의 pairs 를 출력하고 싶으면?**"
      ]
    },
    {
      "cell_type": "code",
      "metadata": {
        "colab": {
          "base_uri": "https://localhost:8080/"
        },
        "id": "Dtxy821PO5Au",
        "outputId": "b2b8d60c-1401-4380-bc3f-939efb79e4a3"
      },
      "source": [
        "list(zip(s, t))"
      ],
      "execution_count": null,
      "outputs": [
        {
          "output_type": "execute_result",
          "data": {
            "text/plain": [
              "[('a', 0), ('b', 1), ('c', 2)]"
            ]
          },
          "metadata": {},
          "execution_count": 29
        }
      ]
    },
    {
      "cell_type": "code",
      "metadata": {
        "colab": {
          "base_uri": "https://localhost:8080/"
        },
        "id": "fKKDjy6gRf-k",
        "outputId": "4b137911-a54f-499f-d40b-2919124874ea"
      },
      "source": [
        "t = list(zip(s, t))\n",
        "for letter, number in t:\n",
        "  print(number, letter)"
      ],
      "execution_count": null,
      "outputs": [
        {
          "output_type": "stream",
          "name": "stdout",
          "text": [
            "0 a\n",
            "1 b\n",
            "2 c\n"
          ]
        }
      ]
    },
    {
      "cell_type": "code",
      "metadata": {
        "colab": {
          "base_uri": "https://localhost:8080/"
        },
        "id": "qlnraSIoP6Uo",
        "outputId": "c82061d4-b529-4790-ac9d-44ef5667cc59"
      },
      "source": [
        "tuple(zip(s, t))"
      ],
      "execution_count": null,
      "outputs": [
        {
          "output_type": "execute_result",
          "data": {
            "text/plain": [
              "(('a', 0), ('b', 1), ('c', 2))"
            ]
          },
          "metadata": {},
          "execution_count": 30
        }
      ]
    },
    {
      "cell_type": "code",
      "metadata": {
        "colab": {
          "base_uri": "https://localhost:8080/"
        },
        "id": "qHd_3StJP9Fm",
        "outputId": "e6c7b71f-8e7e-4e2d-b3e3-2bc0768e3405"
      },
      "source": [
        "dict(zip(s, t))"
      ],
      "execution_count": null,
      "outputs": [
        {
          "output_type": "execute_result",
          "data": {
            "text/plain": [
              "{'a': 0, 'b': 1, 'c': 2}"
            ]
          },
          "metadata": {},
          "execution_count": 32
        }
      ]
    },
    {
      "cell_type": "code",
      "metadata": {
        "colab": {
          "base_uri": "https://localhost:8080/"
        },
        "id": "sRQ0JdpFNirC",
        "outputId": "727e24b3-bf19-4ba7-bdb5-f873312a5210"
      },
      "source": [
        "for pair in zip(s, t):\n",
        "  print(pair)\n",
        "  print(type(pair))"
      ],
      "execution_count": null,
      "outputs": [
        {
          "output_type": "stream",
          "name": "stdout",
          "text": [
            "('a', 0)\n",
            "<class 'tuple'>\n",
            "('b', 1)\n",
            "<class 'tuple'>\n",
            "('c', 2)\n",
            "<class 'tuple'>\n"
          ]
        }
      ]
    },
    {
      "cell_type": "markdown",
      "metadata": {
        "id": "GcRDgMROQL0o"
      },
      "source": [
        "> sequence의 길이가 맞지 않더라도 오류가 나지 않는다."
      ]
    },
    {
      "cell_type": "code",
      "metadata": {
        "colab": {
          "base_uri": "https://localhost:8080/"
        },
        "id": "C8vnq9TIQQRD",
        "outputId": "c8cfb30d-bdbf-491a-9efa-71bcee1b57ce"
      },
      "source": [
        "list(zip('Anne', 'Elk'))"
      ],
      "execution_count": null,
      "outputs": [
        {
          "output_type": "execute_result",
          "data": {
            "text/plain": [
              "[('A', 'E'), ('n', 'l'), ('n', 'k')]"
            ]
          },
          "metadata": {},
          "execution_count": 33
        }
      ]
    },
    {
      "cell_type": "markdown",
      "metadata": {
        "id": "TBheu0NwRsqn"
      },
      "source": [
        "> zip 이용하여 함수 작성하기"
      ]
    },
    {
      "cell_type": "code",
      "metadata": {
        "colab": {
          "base_uri": "https://localhost:8080/"
        },
        "id": "Ejtjb2xUQ0qj",
        "outputId": "316bdf34-fdc7-49b5-fcee-b8909d3ff054"
      },
      "source": [
        "def matching(t1, t2):\n",
        "  for x, y in zip(t1, t2):\n",
        "    print(x, y)\n",
        "matching('anna', 'kyee')\n"
      ],
      "execution_count": null,
      "outputs": [
        {
          "output_type": "stream",
          "name": "stdout",
          "text": [
            "a k\n",
            "n y\n",
            "n e\n",
            "a e\n"
          ]
        }
      ]
    },
    {
      "cell_type": "code",
      "metadata": {
        "id": "AG25J9UjRqVK"
      },
      "source": [
        "# 잘못된 함수식(처음 원소만 비교하게 된다)\n",
        "\n",
        "def has_match(t1, t2):\n",
        "  for x, y in zip(t1, t2):\n",
        "    if x == y:\n",
        "      return True\n",
        "  return False"
      ],
      "execution_count": 8,
      "outputs": []
    },
    {
      "cell_type": "code",
      "metadata": {
        "colab": {
          "base_uri": "https://localhost:8080/"
        },
        "id": "cofqGvA6R6wn",
        "outputId": "32aea17b-fc7f-4a84-8cda-22549b6e21e3"
      },
      "source": [
        "has_match((1, 2, 3), (1, 2, 5))"
      ],
      "execution_count": 9,
      "outputs": [
        {
          "output_type": "execute_result",
          "data": {
            "text/plain": [
              "True"
            ]
          },
          "metadata": {},
          "execution_count": 9
        }
      ]
    },
    {
      "cell_type": "markdown",
      "metadata": {
        "id": "P0YMGgbGSeb4"
      },
      "source": [
        "## **enumerate : iterable 한 객체의 값과 index 값까지 출력하는 내장 함수**"
      ]
    },
    {
      "cell_type": "code",
      "metadata": {
        "colab": {
          "base_uri": "https://localhost:8080/"
        },
        "id": "Z1p4tJ1rSooJ",
        "outputId": "d1950fa5-d5b6-4eb5-d9b8-a9f3ba545008"
      },
      "source": [
        "for index, element in enumerate('abc'):\n",
        "  print(index, element)"
      ],
      "execution_count": null,
      "outputs": [
        {
          "output_type": "stream",
          "name": "stdout",
          "text": [
            "0 a\n",
            "1 b\n",
            "2 c\n"
          ]
        }
      ]
    },
    {
      "cell_type": "markdown",
      "metadata": {
        "id": "exlhuZTyU7Gy"
      },
      "source": [
        "## **dictionary와 tuple**"
      ]
    },
    {
      "cell_type": "markdown",
      "metadata": {
        "id": "_GYafaOLU-l6"
      },
      "source": [
        "> dictionary의 items, values 는 tuple 로 묶여 출력됨"
      ]
    },
    {
      "cell_type": "code",
      "metadata": {
        "colab": {
          "base_uri": "https://localhost:8080/"
        },
        "id": "UFYbAR4JVE4m",
        "outputId": "61b1e931-c8c1-49f9-a189-8bfc89dae3f5"
      },
      "source": [
        "d = {'a':0, 'b':1, 'c':2}\n",
        "t = d.items()\n",
        "t"
      ],
      "execution_count": null,
      "outputs": [
        {
          "output_type": "execute_result",
          "data": {
            "text/plain": [
              "dict_items([('a', 0), ('b', 1), ('c', 2)])"
            ]
          },
          "metadata": {},
          "execution_count": 43
        }
      ]
    },
    {
      "cell_type": "code",
      "metadata": {
        "colab": {
          "base_uri": "https://localhost:8080/"
        },
        "id": "3CgVnvO1VNXt",
        "outputId": "351253be-b588-4644-e610-37488b0952de"
      },
      "source": [
        "for key, value in d.items():\n",
        "  print(key, value)"
      ],
      "execution_count": null,
      "outputs": [
        {
          "output_type": "stream",
          "name": "stdout",
          "text": [
            "a 0\n",
            "b 1\n",
            "c 2\n"
          ]
        }
      ]
    },
    {
      "cell_type": "code",
      "metadata": {
        "colab": {
          "base_uri": "https://localhost:8080/"
        },
        "id": "2B3rCPcFVTAQ",
        "outputId": "f91c3b2e-a624-4a6f-f3e3-cf60cb0928ac"
      },
      "source": [
        "for key in d.keys():\n",
        "  print(key, d[key])"
      ],
      "execution_count": null,
      "outputs": [
        {
          "output_type": "stream",
          "name": "stdout",
          "text": [
            "a 0\n",
            "b 1\n",
            "c 2\n"
          ]
        }
      ]
    },
    {
      "cell_type": "markdown",
      "metadata": {
        "id": "ktxUV8lqVcrE"
      },
      "source": [
        "> 📌 **dictionary 생성 시 tuple들의 list를 사용할 수 있다**\n"
      ]
    },
    {
      "cell_type": "code",
      "metadata": {
        "colab": {
          "base_uri": "https://localhost:8080/"
        },
        "id": "k3UvRoGgVhC6",
        "outputId": "2e7b9246-4da0-4535-ea40-d126fa0331c8"
      },
      "source": [
        "t = [('a', 0), ('c', 2), ('b', 1)]\n",
        "d = dict(t)\n",
        "d"
      ],
      "execution_count": null,
      "outputs": [
        {
          "output_type": "execute_result",
          "data": {
            "text/plain": [
              "{'a': 0, 'b': 1, 'c': 2}"
            ]
          },
          "metadata": {},
          "execution_count": 47
        }
      ]
    },
    {
      "cell_type": "code",
      "metadata": {
        "colab": {
          "base_uri": "https://localhost:8080/"
        },
        "id": "T8pAQfMIVzrR",
        "outputId": "bd0e7bd4-9a5c-492b-c6c7-a19a6f8117db"
      },
      "source": [
        "d = dict(zip('abc', range(3)))\n",
        "d"
      ],
      "execution_count": null,
      "outputs": [
        {
          "output_type": "execute_result",
          "data": {
            "text/plain": [
              "{'a': 0, 'b': 1, 'c': 2}"
            ]
          },
          "metadata": {},
          "execution_count": 48
        }
      ]
    },
    {
      "cell_type": "markdown",
      "metadata": {
        "id": "wi-BrGpnV75f"
      },
      "source": [
        "> dictionary의 key값을 tuple을 이용하여 여러개로 설정하기"
      ]
    },
    {
      "cell_type": "code",
      "metadata": {
        "colab": {
          "base_uri": "https://localhost:8080/"
        },
        "id": "5dIeZGTJV_Va",
        "outputId": "535a0da0-e1a9-4b2e-948c-d3649c833f40"
      },
      "source": [
        "directory = {('Cleese', 'John') : '080-222-333', ('kete', 'J.') : '090-888-999'}\n",
        "#directory[last, first] = number\n",
        "for last, first in directory:\n",
        "  print(first, last, directory[last, first])"
      ],
      "execution_count": null,
      "outputs": [
        {
          "output_type": "stream",
          "name": "stdout",
          "text": [
            "John Cleese 080-222-333\n",
            "J. kete 090-888-999\n"
          ]
        }
      ]
    },
    {
      "cell_type": "markdown",
      "metadata": {
        "id": "RBEEw0HQxwhl"
      },
      "source": [
        "11주차 실습"
      ]
    },
    {
      "cell_type": "markdown",
      "metadata": {
        "id": "_V8_f1npyA0k"
      },
      "source": [
        "튜플 생성하는 법\n",
        "\n",
        ": () 안에 적어도 되고, () 없이 적어도 됨"
      ]
    },
    {
      "cell_type": "code",
      "metadata": {
        "id": "w9XwUXpexU6L"
      },
      "source": [
        "t = (1, 2, 3, 4, 5)"
      ],
      "execution_count": null,
      "outputs": []
    },
    {
      "cell_type": "code",
      "metadata": {
        "colab": {
          "base_uri": "https://localhost:8080/"
        },
        "id": "3GsAU_Bnx3kg",
        "outputId": "fdcec8db-44ca-4038-858f-f8c1de931572"
      },
      "source": [
        "t"
      ],
      "execution_count": null,
      "outputs": [
        {
          "output_type": "execute_result",
          "data": {
            "text/plain": [
              "(1, 2, 3, 4, 5)"
            ]
          },
          "metadata": {},
          "execution_count": 6
        }
      ]
    },
    {
      "cell_type": "code",
      "metadata": {
        "id": "Ec3Hui1iW1Qs"
      },
      "source": [
        "u = 1, 2, 3, 4, 5"
      ],
      "execution_count": null,
      "outputs": []
    },
    {
      "cell_type": "code",
      "metadata": {
        "colab": {
          "base_uri": "https://localhost:8080/"
        },
        "id": "LzbY1SK7x8lK",
        "outputId": "7d8b117e-c953-4c1f-a727-e0e6f3be7dab"
      },
      "source": [
        "u"
      ],
      "execution_count": null,
      "outputs": [
        {
          "output_type": "execute_result",
          "data": {
            "text/plain": [
              "(1, 2, 3, 4, 5)"
            ]
          },
          "metadata": {},
          "execution_count": 8
        }
      ]
    },
    {
      "cell_type": "code",
      "metadata": {
        "colab": {
          "base_uri": "https://localhost:8080/"
        },
        "id": "eQT1kZ9vx-mt",
        "outputId": "4d915316-0fa6-4ffe-9b90-1f0da43ed08f"
      },
      "source": [
        "t == u"
      ],
      "execution_count": null,
      "outputs": [
        {
          "output_type": "execute_result",
          "data": {
            "text/plain": [
              "True"
            ]
          },
          "metadata": {},
          "execution_count": 9
        }
      ]
    },
    {
      "cell_type": "markdown",
      "metadata": {
        "id": "urNBdSH5yK76"
      },
      "source": [
        "element 한 개인 튜플을 만들 때\n",
        "\n",
        ": 뒤에 , 꼭 붙여주기"
      ]
    },
    {
      "cell_type": "code",
      "metadata": {
        "id": "d19GXi9HyYIU"
      },
      "source": [
        "t1 = 1,"
      ],
      "execution_count": null,
      "outputs": []
    },
    {
      "cell_type": "code",
      "metadata": {
        "colab": {
          "base_uri": "https://localhost:8080/"
        },
        "id": "8U3mA49wyaNY",
        "outputId": "955de182-7137-4de6-98a8-b83d01774189"
      },
      "source": [
        "t1"
      ],
      "execution_count": null,
      "outputs": [
        {
          "output_type": "execute_result",
          "data": {
            "text/plain": [
              "(1,)"
            ]
          },
          "metadata": {},
          "execution_count": 11
        }
      ]
    },
    {
      "cell_type": "code",
      "metadata": {
        "id": "lTBNebAHycF7"
      },
      "source": [
        "t2 = (1,)"
      ],
      "execution_count": null,
      "outputs": []
    },
    {
      "cell_type": "code",
      "metadata": {
        "colab": {
          "base_uri": "https://localhost:8080/"
        },
        "id": "OLc6VAOZyd8t",
        "outputId": "c8aa5bfb-3e2b-4989-a827-19b0c5f9012d"
      },
      "source": [
        "t2"
      ],
      "execution_count": null,
      "outputs": [
        {
          "output_type": "execute_result",
          "data": {
            "text/plain": [
              "(1,)"
            ]
          },
          "metadata": {},
          "execution_count": 13
        }
      ]
    },
    {
      "cell_type": "code",
      "metadata": {
        "id": "rwfN8s5FygvA"
      },
      "source": [
        "t3 = 1"
      ],
      "execution_count": null,
      "outputs": []
    },
    {
      "cell_type": "code",
      "metadata": {
        "colab": {
          "base_uri": "https://localhost:8080/"
        },
        "id": "UOA-4KVByieO",
        "outputId": "d8929bf5-7b81-459f-dc9b-c221fe4c6b46"
      },
      "source": [
        "print(t3)\n",
        "type(t3)"
      ],
      "execution_count": null,
      "outputs": [
        {
          "output_type": "stream",
          "name": "stdout",
          "text": [
            "1\n"
          ]
        },
        {
          "output_type": "execute_result",
          "data": {
            "text/plain": [
              "int"
            ]
          },
          "metadata": {},
          "execution_count": 17
        }
      ]
    },
    {
      "cell_type": "code",
      "metadata": {
        "id": "_fxTz0t-yvsv"
      },
      "source": [
        "t = tuple()"
      ],
      "execution_count": null,
      "outputs": []
    },
    {
      "cell_type": "code",
      "metadata": {
        "colab": {
          "base_uri": "https://localhost:8080/"
        },
        "id": "jInzD5Xxyxb2",
        "outputId": "17f7b7f3-b165-479a-bce1-16963d4c6555"
      },
      "source": [
        "t"
      ],
      "execution_count": null,
      "outputs": [
        {
          "output_type": "execute_result",
          "data": {
            "text/plain": [
              "()"
            ]
          },
          "metadata": {},
          "execution_count": 19
        }
      ]
    },
    {
      "cell_type": "code",
      "metadata": {
        "id": "NvVVTuvpzuFj"
      },
      "source": [
        "t = tuple(\"tuple\")"
      ],
      "execution_count": null,
      "outputs": []
    },
    {
      "cell_type": "code",
      "metadata": {
        "colab": {
          "base_uri": "https://localhost:8080/"
        },
        "id": "U3KANaA-zx0U",
        "outputId": "8c7bf8bd-9600-4632-c162-34b527c36fbb"
      },
      "source": [
        "t"
      ],
      "execution_count": null,
      "outputs": [
        {
          "output_type": "execute_result",
          "data": {
            "text/plain": [
              "('t', 'u', 'p', 'l', 'e')"
            ]
          },
          "metadata": {},
          "execution_count": 21
        }
      ]
    },
    {
      "cell_type": "code",
      "metadata": {
        "id": "HjPpGpd_zy2-"
      },
      "source": [
        "t = tuple(range(10))"
      ],
      "execution_count": null,
      "outputs": []
    },
    {
      "cell_type": "code",
      "metadata": {
        "colab": {
          "base_uri": "https://localhost:8080/"
        },
        "id": "a-ljlzQFz0w7",
        "outputId": "96a82d19-d6ab-4ba8-dba5-5db9ed8a724e"
      },
      "source": [
        "t"
      ],
      "execution_count": null,
      "outputs": [
        {
          "output_type": "execute_result",
          "data": {
            "text/plain": [
              "(0, 1, 2, 3, 4, 5, 6, 7, 8, 9)"
            ]
          },
          "metadata": {},
          "execution_count": 23
        }
      ]
    },
    {
      "cell_type": "code",
      "metadata": {
        "colab": {
          "base_uri": "https://localhost:8080/"
        },
        "id": "Nyw6d-6Fz1X-",
        "outputId": "14a10df7-7eeb-4dee-bf3d-cfa25c7171ef"
      },
      "source": [
        "t[0]"
      ],
      "execution_count": null,
      "outputs": [
        {
          "output_type": "execute_result",
          "data": {
            "text/plain": [
              "0"
            ]
          },
          "metadata": {},
          "execution_count": 24
        }
      ]
    },
    {
      "cell_type": "code",
      "metadata": {
        "colab": {
          "base_uri": "https://localhost:8080/"
        },
        "id": "KzFXxYUnz3GI",
        "outputId": "1b88df47-6b57-463e-c048-be8c638c4d84"
      },
      "source": [
        "t[4]"
      ],
      "execution_count": null,
      "outputs": [
        {
          "output_type": "execute_result",
          "data": {
            "text/plain": [
              "4"
            ]
          },
          "metadata": {},
          "execution_count": 25
        }
      ]
    },
    {
      "cell_type": "code",
      "metadata": {
        "colab": {
          "base_uri": "https://localhost:8080/"
        },
        "id": "FaDU-u4dz4Ji",
        "outputId": "68c367b7-1b96-4dfb-8205-13881e3b731f"
      },
      "source": [
        "t[1:3]"
      ],
      "execution_count": null,
      "outputs": [
        {
          "output_type": "execute_result",
          "data": {
            "text/plain": [
              "(1, 2)"
            ]
          },
          "metadata": {},
          "execution_count": 26
        }
      ]
    },
    {
      "cell_type": "markdown",
      "metadata": {
        "id": "jIjscNfp0DrV"
      },
      "source": [
        "tuple은 immutable하므로 특정 인덱스 값을 바꿀 수 없음"
      ]
    },
    {
      "cell_type": "code",
      "metadata": {
        "colab": {
          "base_uri": "https://localhost:8080/",
          "height": 172
        },
        "id": "hEeYjfhBz5Db",
        "outputId": "e4a318b1-a8f2-4333-9c5f-ca61a67b5d1c"
      },
      "source": [
        "t[0] = 100"
      ],
      "execution_count": null,
      "outputs": [
        {
          "output_type": "error",
          "ename": "TypeError",
          "evalue": "ignored",
          "traceback": [
            "\u001b[0;31m---------------------------------------------------------------------------\u001b[0m",
            "\u001b[0;31mTypeError\u001b[0m                                 Traceback (most recent call last)",
            "\u001b[0;32m<ipython-input-28-e6cf7836e708>\u001b[0m in \u001b[0;36m<module>\u001b[0;34m()\u001b[0m\n\u001b[0;32m----> 1\u001b[0;31m \u001b[0mt\u001b[0m\u001b[0;34m[\u001b[0m\u001b[0;36m0\u001b[0m\u001b[0;34m]\u001b[0m \u001b[0;34m=\u001b[0m \u001b[0;36m100\u001b[0m\u001b[0;34m\u001b[0m\u001b[0;34m\u001b[0m\u001b[0m\n\u001b[0m",
            "\u001b[0;31mTypeError\u001b[0m: 'tuple' object does not support item assignment"
          ]
        }
      ]
    },
    {
      "cell_type": "markdown",
      "metadata": {
        "id": "VP8Gmb7b0jDV"
      },
      "source": [
        ""
      ]
    },
    {
      "cell_type": "markdown",
      "metadata": {
        "id": "fgM2pO540jSK"
      },
      "source": [
        "튜플값을 수정하고 싶으면?\n",
        "\n",
        "새로 튜플을 만들어서 기존값 slicing 해서 더함"
      ]
    },
    {
      "cell_type": "code",
      "metadata": {
        "id": "_zF9zpyT0JYE"
      },
      "source": [
        "t = (100,) + t[1:]\n",
        "# 새로운 값을 만들어서 t가 이 값을 참조하도록 한다. 실제로는 수정한 것이 아니라, 새로운 값을 참조하도록 한 것."
      ],
      "execution_count": null,
      "outputs": []
    },
    {
      "cell_type": "code",
      "metadata": {
        "colab": {
          "base_uri": "https://localhost:8080/"
        },
        "id": "ZBYCQ9IH052l",
        "outputId": "4a1f4f76-e309-4b12-ebe9-9682b821223b"
      },
      "source": [
        "t"
      ],
      "execution_count": null,
      "outputs": [
        {
          "output_type": "execute_result",
          "data": {
            "text/plain": [
              "(100, 1, 2, 3, 4, 5, 6, 7, 8, 9)"
            ]
          },
          "metadata": {},
          "execution_count": 30
        }
      ]
    },
    {
      "cell_type": "markdown",
      "metadata": {
        "id": "GAskZ6Df1PCK"
      },
      "source": [
        "id값이(주소값이) 다르다.\n",
        "\n",
        "같은 값이 수정된게 아니라, 새로 만들어져서 t가 단지 다른 곳(주소)을 참조하고 있는 것임"
      ]
    },
    {
      "cell_type": "code",
      "metadata": {
        "id": "-Pt58PUh08W4"
      },
      "source": [
        "t = tuple(range(10))"
      ],
      "execution_count": null,
      "outputs": []
    },
    {
      "cell_type": "code",
      "metadata": {
        "colab": {
          "base_uri": "https://localhost:8080/"
        },
        "id": "yMBexesD1HMH",
        "outputId": "518bef94-3e5f-4680-89f3-cb69de0cdda6"
      },
      "source": [
        "id(t)"
      ],
      "execution_count": null,
      "outputs": [
        {
          "output_type": "execute_result",
          "data": {
            "text/plain": [
              "139892137928752"
            ]
          },
          "metadata": {},
          "execution_count": 32
        }
      ]
    },
    {
      "cell_type": "code",
      "metadata": {
        "id": "st6-q0Us1H7v"
      },
      "source": [
        "t = (100,) + t[1:]"
      ],
      "execution_count": null,
      "outputs": []
    },
    {
      "cell_type": "code",
      "metadata": {
        "colab": {
          "base_uri": "https://localhost:8080/"
        },
        "id": "Er6tGpXx1JhK",
        "outputId": "cb646116-1a30-4b78-be1a-1eacde4d128c"
      },
      "source": [
        "id(t)"
      ],
      "execution_count": null,
      "outputs": [
        {
          "output_type": "execute_result",
          "data": {
            "text/plain": [
              "139892137870832"
            ]
          },
          "metadata": {},
          "execution_count": 34
        }
      ]
    },
    {
      "cell_type": "code",
      "metadata": {
        "id": "15mtWHQl3EHh"
      },
      "source": [
        "t = t + (10,)"
      ],
      "execution_count": null,
      "outputs": []
    },
    {
      "cell_type": "code",
      "metadata": {
        "colab": {
          "base_uri": "https://localhost:8080/"
        },
        "id": "I42LPeLU3LhQ",
        "outputId": "fd0ecaa6-c637-476a-9c09-830d9811ab75"
      },
      "source": [
        "t"
      ],
      "execution_count": null,
      "outputs": [
        {
          "output_type": "execute_result",
          "data": {
            "text/plain": [
              "(100, 1, 2, 3, 4, 5, 6, 7, 8, 9, 10)"
            ]
          },
          "metadata": {},
          "execution_count": 36
        }
      ]
    },
    {
      "cell_type": "code",
      "metadata": {
        "colab": {
          "base_uri": "https://localhost:8080/"
        },
        "id": "XhyyLw793L7J",
        "outputId": "3799b8ef-a48d-4efe-c2ba-2a852bf1ee82"
      },
      "source": [
        "id(t)"
      ],
      "execution_count": null,
      "outputs": [
        {
          "output_type": "execute_result",
          "data": {
            "text/plain": [
              "139892138657408"
            ]
          },
          "metadata": {},
          "execution_count": 37
        }
      ]
    },
    {
      "cell_type": "markdown",
      "metadata": {
        "id": "kHsmhzRe3W6v"
      },
      "source": [
        "in-place operator임에도 tuple은 immutable 하므로 새로 만들어지게 됨"
      ]
    },
    {
      "cell_type": "code",
      "metadata": {
        "id": "4YLqvQl63M-L"
      },
      "source": [
        "t += (11,)"
      ],
      "execution_count": null,
      "outputs": []
    },
    {
      "cell_type": "code",
      "metadata": {
        "colab": {
          "base_uri": "https://localhost:8080/"
        },
        "id": "agJUF8173O6D",
        "outputId": "75703ffb-c024-42b4-d70a-7fd93a145377"
      },
      "source": [
        "t"
      ],
      "execution_count": null,
      "outputs": [
        {
          "output_type": "execute_result",
          "data": {
            "text/plain": [
              "(100, 1, 2, 3, 4, 5, 6, 7, 8, 9, 10, 11)"
            ]
          },
          "metadata": {},
          "execution_count": 39
        }
      ]
    },
    {
      "cell_type": "code",
      "metadata": {
        "colab": {
          "base_uri": "https://localhost:8080/"
        },
        "id": "C6SBhv8D3PiG",
        "outputId": "4c792f93-7f8d-4490-a614-4e23fb3e98d5"
      },
      "source": [
        "id(t)"
      ],
      "execution_count": null,
      "outputs": [
        {
          "output_type": "execute_result",
          "data": {
            "text/plain": [
              "139892139379120"
            ]
          },
          "metadata": {},
          "execution_count": 40
        }
      ]
    },
    {
      "cell_type": "code",
      "metadata": {
        "id": "pXpcIYLq3jtK"
      },
      "source": [
        "u = list(range(10))"
      ],
      "execution_count": null,
      "outputs": []
    },
    {
      "cell_type": "code",
      "metadata": {
        "colab": {
          "base_uri": "https://localhost:8080/"
        },
        "id": "1GDuWRwO3l1T",
        "outputId": "ceab8ce0-5464-4c95-fbeb-493bf665ac21"
      },
      "source": [
        "u"
      ],
      "execution_count": null,
      "outputs": [
        {
          "output_type": "execute_result",
          "data": {
            "text/plain": [
              "[0, 1, 2, 3, 4, 5, 6, 7, 8, 9]"
            ]
          },
          "metadata": {},
          "execution_count": 44
        }
      ]
    },
    {
      "cell_type": "code",
      "metadata": {
        "colab": {
          "base_uri": "https://localhost:8080/"
        },
        "id": "bUUxs15O3mlD",
        "outputId": "f015b4f0-ed64-4ba0-acce-a9beebb6c6d5"
      },
      "source": [
        "id(u)"
      ],
      "execution_count": null,
      "outputs": [
        {
          "output_type": "execute_result",
          "data": {
            "text/plain": [
              "139892138058128"
            ]
          },
          "metadata": {},
          "execution_count": 45
        }
      ]
    },
    {
      "cell_type": "code",
      "metadata": {
        "id": "bWum8lx93nh-"
      },
      "source": [
        "u += [10]"
      ],
      "execution_count": null,
      "outputs": []
    },
    {
      "cell_type": "markdown",
      "metadata": {
        "id": "qL5GZexX4Nzy"
      },
      "source": [
        "in-place operator 인 += 의 경우 기존 리스트가 수정되는 것이므로, 이전의 리스트와 id값이 같다."
      ]
    },
    {
      "cell_type": "code",
      "metadata": {
        "colab": {
          "base_uri": "https://localhost:8080/"
        },
        "id": "4UW3R_j83omU",
        "outputId": "e20de55e-4940-4948-966f-851aad0c812c"
      },
      "source": [
        "u"
      ],
      "execution_count": null,
      "outputs": [
        {
          "output_type": "execute_result",
          "data": {
            "text/plain": [
              "[0, 1, 2, 3, 4, 5, 6, 7, 8, 9, 10]"
            ]
          },
          "metadata": {},
          "execution_count": 47
        }
      ]
    },
    {
      "cell_type": "code",
      "metadata": {
        "colab": {
          "base_uri": "https://localhost:8080/"
        },
        "id": "IyEaAt2V3pIK",
        "outputId": "95723453-d75e-430b-f090-797b7fbbe89c"
      },
      "source": [
        "id(u)"
      ],
      "execution_count": null,
      "outputs": [
        {
          "output_type": "execute_result",
          "data": {
            "text/plain": [
              "139892138058128"
            ]
          },
          "metadata": {},
          "execution_count": 48
        }
      ]
    },
    {
      "cell_type": "code",
      "metadata": {
        "id": "1DOxEp373q1M"
      },
      "source": [
        "u = u + [11]"
      ],
      "execution_count": null,
      "outputs": []
    },
    {
      "cell_type": "markdown",
      "metadata": {
        "id": "Ed_MAQMA4WTQ"
      },
      "source": [
        "이 경우는 in-place operator가 아니므로 기존 리스트가 수정되는 것이 아니라, 값이 추가된 채로 새로운 리스트가 생성되는 것이므로 이전의 리스트와 id값이 다르다."
      ]
    },
    {
      "cell_type": "code",
      "metadata": {
        "colab": {
          "base_uri": "https://localhost:8080/"
        },
        "id": "RGyz5g1t3syT",
        "outputId": "934852c7-652b-423e-9e3c-50686f3c59f2"
      },
      "source": [
        "u"
      ],
      "execution_count": null,
      "outputs": [
        {
          "output_type": "execute_result",
          "data": {
            "text/plain": [
              "[0, 1, 2, 3, 4, 5, 6, 7, 8, 9, 10, 11]"
            ]
          },
          "metadata": {},
          "execution_count": 50
        }
      ]
    },
    {
      "cell_type": "code",
      "metadata": {
        "colab": {
          "base_uri": "https://localhost:8080/"
        },
        "id": "NZwR7AKT3tXK",
        "outputId": "70aedfc5-f43c-4378-e457-52038696f55a"
      },
      "source": [
        "id(u)"
      ],
      "execution_count": null,
      "outputs": [
        {
          "output_type": "execute_result",
          "data": {
            "text/plain": [
              "139892137787056"
            ]
          },
          "metadata": {},
          "execution_count": 51
        }
      ]
    },
    {
      "cell_type": "markdown",
      "metadata": {
        "id": "mfJzh4FL4uxx"
      },
      "source": [
        "a, b swap하기"
      ]
    },
    {
      "cell_type": "code",
      "metadata": {
        "id": "X_VLI5vE4wl4"
      },
      "source": [
        "a = 3\n",
        "b = 7"
      ],
      "execution_count": null,
      "outputs": []
    },
    {
      "cell_type": "code",
      "metadata": {
        "id": "S2_aNaXL8UJK"
      },
      "source": [
        "a, b = b, a"
      ],
      "execution_count": null,
      "outputs": []
    },
    {
      "cell_type": "code",
      "metadata": {
        "colab": {
          "base_uri": "https://localhost:8080/"
        },
        "id": "qPgkXXEX8Wts",
        "outputId": "34c4a8da-ecc3-4415-fb83-028ed509b777"
      },
      "source": [
        "a"
      ],
      "execution_count": null,
      "outputs": [
        {
          "output_type": "execute_result",
          "data": {
            "text/plain": [
              "7"
            ]
          },
          "metadata": {},
          "execution_count": 54
        }
      ]
    },
    {
      "cell_type": "code",
      "metadata": {
        "colab": {
          "base_uri": "https://localhost:8080/"
        },
        "id": "KriLn6M78XTc",
        "outputId": "1a0089af-ef3e-48fb-b63f-9d4b60ab4ab5"
      },
      "source": [
        "b"
      ],
      "execution_count": null,
      "outputs": [
        {
          "output_type": "execute_result",
          "data": {
            "text/plain": [
              "3"
            ]
          },
          "metadata": {},
          "execution_count": 55
        }
      ]
    },
    {
      "cell_type": "code",
      "metadata": {
        "id": "JWuyVews8Zgz"
      },
      "source": [
        "a, b = b+3, a+2"
      ],
      "execution_count": null,
      "outputs": []
    },
    {
      "cell_type": "code",
      "metadata": {
        "colab": {
          "base_uri": "https://localhost:8080/"
        },
        "id": "Pv4J1vjH8cfo",
        "outputId": "4c0d8a1d-34c0-438c-82da-59807b497e4e"
      },
      "source": [
        "a"
      ],
      "execution_count": null,
      "outputs": [
        {
          "output_type": "execute_result",
          "data": {
            "text/plain": [
              "6"
            ]
          },
          "metadata": {},
          "execution_count": 57
        }
      ]
    },
    {
      "cell_type": "code",
      "metadata": {
        "colab": {
          "base_uri": "https://localhost:8080/"
        },
        "id": "EShlYKmK8c3f",
        "outputId": "fca68728-0f28-4cf4-b859-4f0fbfaf07ab"
      },
      "source": [
        "b"
      ],
      "execution_count": null,
      "outputs": [
        {
          "output_type": "execute_result",
          "data": {
            "text/plain": [
              "9"
            ]
          },
          "metadata": {},
          "execution_count": 58
        }
      ]
    },
    {
      "cell_type": "markdown",
      "metadata": {
        "id": "S_x_9GIP8qGY"
      },
      "source": [
        "tuple assignment 하려면 좌, 우의 개수가 일치해야한다."
      ]
    },
    {
      "cell_type": "code",
      "metadata": {
        "colab": {
          "base_uri": "https://localhost:8080/",
          "height": 172
        },
        "id": "pLeocTT98fWc",
        "outputId": "e0d2f4e9-f9d5-43b1-90cc-b5dead85283d"
      },
      "source": [
        "a, b = 1, 2, 3"
      ],
      "execution_count": null,
      "outputs": [
        {
          "output_type": "error",
          "ename": "ValueError",
          "evalue": "ignored",
          "traceback": [
            "\u001b[0;31m---------------------------------------------------------------------------\u001b[0m",
            "\u001b[0;31mValueError\u001b[0m                                Traceback (most recent call last)",
            "\u001b[0;32m<ipython-input-59-8904fd2ea925>\u001b[0m in \u001b[0;36m<module>\u001b[0;34m()\u001b[0m\n\u001b[0;32m----> 1\u001b[0;31m \u001b[0ma\u001b[0m\u001b[0;34m,\u001b[0m \u001b[0mb\u001b[0m \u001b[0;34m=\u001b[0m \u001b[0;36m1\u001b[0m\u001b[0;34m,\u001b[0m \u001b[0;36m2\u001b[0m\u001b[0;34m,\u001b[0m \u001b[0;36m3\u001b[0m\u001b[0;34m\u001b[0m\u001b[0;34m\u001b[0m\u001b[0m\n\u001b[0m",
            "\u001b[0;31mValueError\u001b[0m: too many values to unpack (expected 2)"
          ]
        }
      ]
    },
    {
      "cell_type": "code",
      "metadata": {
        "colab": {
          "base_uri": "https://localhost:8080/",
          "height": 172
        },
        "id": "r6qAfcbN8lSE",
        "outputId": "c02b317d-f9e9-4832-e90c-00256257edab"
      },
      "source": [
        "a,b,c = 1, 2"
      ],
      "execution_count": null,
      "outputs": [
        {
          "output_type": "error",
          "ename": "ValueError",
          "evalue": "ignored",
          "traceback": [
            "\u001b[0;31m---------------------------------------------------------------------------\u001b[0m",
            "\u001b[0;31mValueError\u001b[0m                                Traceback (most recent call last)",
            "\u001b[0;32m<ipython-input-60-fdb4eddb202f>\u001b[0m in \u001b[0;36m<module>\u001b[0;34m()\u001b[0m\n\u001b[0;32m----> 1\u001b[0;31m \u001b[0ma\u001b[0m\u001b[0;34m,\u001b[0m\u001b[0mb\u001b[0m\u001b[0;34m,\u001b[0m\u001b[0mc\u001b[0m \u001b[0;34m=\u001b[0m \u001b[0;36m1\u001b[0m\u001b[0;34m,\u001b[0m \u001b[0;36m2\u001b[0m\u001b[0;34m\u001b[0m\u001b[0;34m\u001b[0m\u001b[0m\n\u001b[0m",
            "\u001b[0;31mValueError\u001b[0m: not enough values to unpack (expected 3, got 2)"
          ]
        }
      ]
    },
    {
      "cell_type": "code",
      "metadata": {
        "id": "uwVpKCcU8u1Y"
      },
      "source": [
        "addr = 'monty@python.org'"
      ],
      "execution_count": null,
      "outputs": []
    },
    {
      "cell_type": "code",
      "metadata": {
        "id": "gnrREgb_8yo1"
      },
      "source": [
        "t = addr.split('@')"
      ],
      "execution_count": null,
      "outputs": []
    },
    {
      "cell_type": "code",
      "metadata": {
        "colab": {
          "base_uri": "https://localhost:8080/"
        },
        "id": "WsfMtv2K83RN",
        "outputId": "751a6915-fcda-4506-9e55-bfcb19b93ab0"
      },
      "source": [
        "t"
      ],
      "execution_count": null,
      "outputs": [
        {
          "output_type": "execute_result",
          "data": {
            "text/plain": [
              "['monty', 'python.org']"
            ]
          },
          "metadata": {},
          "execution_count": 63
        }
      ]
    },
    {
      "cell_type": "code",
      "metadata": {
        "id": "8CT4fI2S85g9"
      },
      "source": [
        "uname, domain = t\n",
        "# t는 element 2개를 가지고 있기 때문에 할당됨"
      ],
      "execution_count": null,
      "outputs": []
    },
    {
      "cell_type": "code",
      "metadata": {
        "colab": {
          "base_uri": "https://localhost:8080/",
          "height": 35
        },
        "id": "kzeggUZA8_R2",
        "outputId": "eb1ed9cd-05aa-40d0-dd1c-5a2636300650"
      },
      "source": [
        "uname"
      ],
      "execution_count": null,
      "outputs": [
        {
          "output_type": "execute_result",
          "data": {
            "application/vnd.google.colaboratory.intrinsic+json": {
              "type": "string"
            },
            "text/plain": [
              "'monty'"
            ]
          },
          "metadata": {},
          "execution_count": 65
        }
      ]
    },
    {
      "cell_type": "code",
      "metadata": {
        "colab": {
          "base_uri": "https://localhost:8080/",
          "height": 35
        },
        "id": "LvO2AzmA9HPk",
        "outputId": "7030dea6-88e5-4975-ad3e-f98133a6a76e"
      },
      "source": [
        "domain"
      ],
      "execution_count": null,
      "outputs": [
        {
          "output_type": "execute_result",
          "data": {
            "application/vnd.google.colaboratory.intrinsic+json": {
              "type": "string"
            },
            "text/plain": [
              "'python.org'"
            ]
          },
          "metadata": {},
          "execution_count": 66
        }
      ]
    },
    {
      "cell_type": "markdown",
      "metadata": {
        "id": "NBbi2-E-9SR2"
      },
      "source": [
        "sequence이고 대응되는 개수만 같으면 가능"
      ]
    },
    {
      "cell_type": "code",
      "metadata": {
        "id": "J8d5BxpZ9IYo"
      },
      "source": [
        "uname, domain = 'ab', 'cd'"
      ],
      "execution_count": 10,
      "outputs": []
    },
    {
      "cell_type": "code",
      "metadata": {
        "colab": {
          "base_uri": "https://localhost:8080/",
          "height": 35
        },
        "id": "9QRZTOkr9Nvb",
        "outputId": "e8e9f050-7fe6-4337-cf22-bb64aa4587a5"
      },
      "source": [
        "uname"
      ],
      "execution_count": 11,
      "outputs": [
        {
          "output_type": "execute_result",
          "data": {
            "application/vnd.google.colaboratory.intrinsic+json": {
              "type": "string"
            },
            "text/plain": [
              "'ab'"
            ]
          },
          "metadata": {},
          "execution_count": 11
        }
      ]
    },
    {
      "cell_type": "code",
      "metadata": {
        "colab": {
          "base_uri": "https://localhost:8080/",
          "height": 35
        },
        "id": "WathNRou9ayL",
        "outputId": "57aacfdf-9b5f-49fc-cd17-014c695ac2ff"
      },
      "source": [
        "domain"
      ],
      "execution_count": 12,
      "outputs": [
        {
          "output_type": "execute_result",
          "data": {
            "application/vnd.google.colaboratory.intrinsic+json": {
              "type": "string"
            },
            "text/plain": [
              "'cd'"
            ]
          },
          "metadata": {},
          "execution_count": 12
        }
      ]
    },
    {
      "cell_type": "code",
      "source": [
        "uname, domain = 'a', 'b'"
      ],
      "metadata": {
        "id": "SvK8Xz5fBL9m"
      },
      "execution_count": 13,
      "outputs": []
    },
    {
      "cell_type": "code",
      "source": [
        "uname"
      ],
      "metadata": {
        "colab": {
          "base_uri": "https://localhost:8080/",
          "height": 35
        },
        "id": "xSvAZ2CuBP1U",
        "outputId": "14538ea5-7488-416d-ad90-9255ec5a42fc"
      },
      "execution_count": 14,
      "outputs": [
        {
          "output_type": "execute_result",
          "data": {
            "application/vnd.google.colaboratory.intrinsic+json": {
              "type": "string"
            },
            "text/plain": [
              "'a'"
            ]
          },
          "metadata": {},
          "execution_count": 14
        }
      ]
    },
    {
      "cell_type": "code",
      "source": [
        "domain"
      ],
      "metadata": {
        "colab": {
          "base_uri": "https://localhost:8080/",
          "height": 35
        },
        "id": "Hcup3nekBRNr",
        "outputId": "240c9394-db1e-470c-fbb3-31000a351201"
      },
      "execution_count": 15,
      "outputs": [
        {
          "output_type": "execute_result",
          "data": {
            "application/vnd.google.colaboratory.intrinsic+json": {
              "type": "string"
            },
            "text/plain": [
              "'b'"
            ]
          },
          "metadata": {},
          "execution_count": 15
        }
      ]
    },
    {
      "cell_type": "markdown",
      "metadata": {
        "id": "c83fGrFG90mE"
      },
      "source": [
        "divmod -> tuple로 한번에 받았을 때"
      ]
    },
    {
      "cell_type": "code",
      "metadata": {
        "id": "b2sO3OXN9e28"
      },
      "source": [
        "t = divmod(7, 3)"
      ],
      "execution_count": null,
      "outputs": []
    },
    {
      "cell_type": "code",
      "metadata": {
        "colab": {
          "base_uri": "https://localhost:8080/"
        },
        "id": "qRGSBNHS9h6b",
        "outputId": "fca9ab53-efe1-4f7f-faa9-0cd80d3881f5"
      },
      "source": [
        "t"
      ],
      "execution_count": null,
      "outputs": [
        {
          "output_type": "execute_result",
          "data": {
            "text/plain": [
              "(2, 1)"
            ]
          },
          "metadata": {},
          "execution_count": 73
        }
      ]
    },
    {
      "cell_type": "code",
      "metadata": {
        "colab": {
          "base_uri": "https://localhost:8080/"
        },
        "id": "q26e0Foy9nCh",
        "outputId": "14fc9b93-04c6-4f33-900e-11d52543e0af"
      },
      "source": [
        "type(t)"
      ],
      "execution_count": null,
      "outputs": [
        {
          "output_type": "execute_result",
          "data": {
            "text/plain": [
              "tuple"
            ]
          },
          "metadata": {},
          "execution_count": 74
        }
      ]
    },
    {
      "cell_type": "code",
      "metadata": {
        "colab": {
          "base_uri": "https://localhost:8080/"
        },
        "id": "fdZYyn3p9v1j",
        "outputId": "e2997b31-5688-4f95-bac3-1fba45a042c3"
      },
      "source": [
        "t[0]"
      ],
      "execution_count": null,
      "outputs": [
        {
          "output_type": "execute_result",
          "data": {
            "text/plain": [
              "2"
            ]
          },
          "metadata": {},
          "execution_count": 76
        }
      ]
    },
    {
      "cell_type": "code",
      "metadata": {
        "colab": {
          "base_uri": "https://localhost:8080/"
        },
        "id": "im8uJ1bX9wls",
        "outputId": "2947db19-1e8b-4fa7-9693-a3d39781466e"
      },
      "source": [
        "t[1]"
      ],
      "execution_count": null,
      "outputs": [
        {
          "output_type": "execute_result",
          "data": {
            "text/plain": [
              "1"
            ]
          },
          "metadata": {},
          "execution_count": 77
        }
      ]
    },
    {
      "cell_type": "markdown",
      "metadata": {
        "id": "D2DWoq5d93fE"
      },
      "source": [
        "divmod -> 변수 두 개에 나눠 담았을 때"
      ]
    },
    {
      "cell_type": "code",
      "metadata": {
        "id": "UrFsTqwc9ph3"
      },
      "source": [
        "a, b = divmod(7, 3)"
      ],
      "execution_count": null,
      "outputs": []
    },
    {
      "cell_type": "code",
      "metadata": {
        "colab": {
          "base_uri": "https://localhost:8080/"
        },
        "id": "TM8d9T4L9s4B",
        "outputId": "84e99a5c-8ff2-47b8-929e-0cd7bc2c633b"
      },
      "source": [
        "a"
      ],
      "execution_count": null,
      "outputs": [
        {
          "output_type": "execute_result",
          "data": {
            "text/plain": [
              "2"
            ]
          },
          "metadata": {},
          "execution_count": 78
        }
      ]
    },
    {
      "cell_type": "code",
      "metadata": {
        "colab": {
          "base_uri": "https://localhost:8080/"
        },
        "id": "qMfwfcVr9tWn",
        "outputId": "ef0afb5c-8c58-41df-fe8d-82b99e0f9a41"
      },
      "source": [
        "b"
      ],
      "execution_count": null,
      "outputs": [
        {
          "output_type": "execute_result",
          "data": {
            "text/plain": [
              "1"
            ]
          },
          "metadata": {},
          "execution_count": 79
        }
      ]
    },
    {
      "cell_type": "code",
      "metadata": {
        "id": "ylwE9zFb9t7r"
      },
      "source": [
        "def printall(*args):\n",
        "  print(type(args))\n",
        "  print(args)"
      ],
      "execution_count": null,
      "outputs": []
    },
    {
      "cell_type": "code",
      "metadata": {
        "colab": {
          "base_uri": "https://localhost:8080/"
        },
        "id": "qKx-3d7NWIFt",
        "outputId": "0da7961b-8e12-4e2d-f09a-42d2b116d633"
      },
      "source": [
        "printall(1, 2.0, '3')"
      ],
      "execution_count": null,
      "outputs": [
        {
          "output_type": "stream",
          "name": "stdout",
          "text": [
            "<class 'tuple'>\n",
            "(1, 2.0, '3')\n"
          ]
        }
      ]
    },
    {
      "cell_type": "code",
      "metadata": {
        "id": "Vvfp5MeYWNc9"
      },
      "source": [
        "t = 7, 3"
      ],
      "execution_count": null,
      "outputs": []
    },
    {
      "cell_type": "code",
      "metadata": {
        "colab": {
          "base_uri": "https://localhost:8080/"
        },
        "id": "IuQQLtfFWPBg",
        "outputId": "0408dbe3-93af-481f-85e2-f3d011be57e2"
      },
      "source": [
        "t"
      ],
      "execution_count": null,
      "outputs": [
        {
          "output_type": "execute_result",
          "data": {
            "text/plain": [
              "(7, 3)"
            ]
          },
          "metadata": {},
          "execution_count": 4
        }
      ]
    },
    {
      "cell_type": "code",
      "metadata": {
        "colab": {
          "base_uri": "https://localhost:8080/",
          "height": 172
        },
        "id": "9998AI7RWPTP",
        "outputId": "9ec28264-f6cf-492b-8c33-060df3ff5a47"
      },
      "source": [
        "divmod(t)"
      ],
      "execution_count": null,
      "outputs": [
        {
          "output_type": "error",
          "ename": "TypeError",
          "evalue": "ignored",
          "traceback": [
            "\u001b[0;31m---------------------------------------------------------------------------\u001b[0m",
            "\u001b[0;31mTypeError\u001b[0m                                 Traceback (most recent call last)",
            "\u001b[0;32m<ipython-input-5-f5de22b0f3a4>\u001b[0m in \u001b[0;36m<module>\u001b[0;34m()\u001b[0m\n\u001b[0;32m----> 1\u001b[0;31m \u001b[0mdivmod\u001b[0m\u001b[0;34m(\u001b[0m\u001b[0mt\u001b[0m\u001b[0;34m)\u001b[0m\u001b[0;34m\u001b[0m\u001b[0;34m\u001b[0m\u001b[0m\n\u001b[0m",
            "\u001b[0;31mTypeError\u001b[0m: divmod expected 2 arguments, got 1"
          ]
        }
      ]
    },
    {
      "cell_type": "code",
      "metadata": {
        "colab": {
          "base_uri": "https://localhost:8080/"
        },
        "id": "C0YC4IzdWQad",
        "outputId": "066430f8-3e4b-4680-a325-a5f947c69ae7"
      },
      "source": [
        "divmod(*t)"
      ],
      "execution_count": null,
      "outputs": [
        {
          "output_type": "execute_result",
          "data": {
            "text/plain": [
              "(2, 1)"
            ]
          },
          "metadata": {},
          "execution_count": 6
        }
      ]
    },
    {
      "cell_type": "code",
      "metadata": {
        "colab": {
          "base_uri": "https://localhost:8080/"
        },
        "id": "bZqesIKQWVxX",
        "outputId": "202276dc-cdb7-470c-e407-635d310134ec"
      },
      "source": [
        "max(1, 2, 3)"
      ],
      "execution_count": null,
      "outputs": [
        {
          "output_type": "execute_result",
          "data": {
            "text/plain": [
              "3"
            ]
          },
          "metadata": {},
          "execution_count": 7
        }
      ]
    },
    {
      "cell_type": "code",
      "source": [
        "max((1, 2, 3))"
      ],
      "metadata": {
        "colab": {
          "base_uri": "https://localhost:8080/"
        },
        "id": "2jOho1V3BcrA",
        "outputId": "024af5ff-d72c-4568-dd91-9d745e97b302"
      },
      "execution_count": 16,
      "outputs": [
        {
          "output_type": "execute_result",
          "data": {
            "text/plain": [
              "3"
            ]
          },
          "metadata": {},
          "execution_count": 16
        }
      ]
    },
    {
      "cell_type": "code",
      "metadata": {
        "colab": {
          "base_uri": "https://localhost:8080/",
          "height": 172
        },
        "id": "P_lVWYEsWXb1",
        "outputId": "e78c2731-753b-4bfd-8bd1-e1f18c8e4a8b"
      },
      "source": [
        "sum(1, 2, 3)"
      ],
      "execution_count": null,
      "outputs": [
        {
          "output_type": "error",
          "ename": "TypeError",
          "evalue": "ignored",
          "traceback": [
            "\u001b[0;31m---------------------------------------------------------------------------\u001b[0m",
            "\u001b[0;31mTypeError\u001b[0m                                 Traceback (most recent call last)",
            "\u001b[0;32m<ipython-input-8-c44a16fb57bf>\u001b[0m in \u001b[0;36m<module>\u001b[0;34m()\u001b[0m\n\u001b[0;32m----> 1\u001b[0;31m \u001b[0msum\u001b[0m\u001b[0;34m(\u001b[0m\u001b[0;36m1\u001b[0m\u001b[0;34m,\u001b[0m \u001b[0;36m2\u001b[0m\u001b[0;34m,\u001b[0m \u001b[0;36m3\u001b[0m\u001b[0;34m)\u001b[0m\u001b[0;34m\u001b[0m\u001b[0;34m\u001b[0m\u001b[0m\n\u001b[0m",
            "\u001b[0;31mTypeError\u001b[0m: sum expected at most 2 arguments, got 3"
          ]
        }
      ]
    },
    {
      "cell_type": "code",
      "metadata": {
        "colab": {
          "base_uri": "https://localhost:8080/"
        },
        "id": "pKNPatFBWZ16",
        "outputId": "89590b8d-bf45-477f-b624-b5b9f3b474ff"
      },
      "source": [
        "help(max)"
      ],
      "execution_count": null,
      "outputs": [
        {
          "output_type": "stream",
          "name": "stdout",
          "text": [
            "Help on built-in function max in module builtins:\n",
            "\n",
            "max(...)\n",
            "    max(iterable, *[, default=obj, key=func]) -> value\n",
            "    max(arg1, arg2, *args, *[, key=func]) -> value\n",
            "    \n",
            "    With a single iterable argument, return its biggest item. The\n",
            "    default keyword-only argument specifies an object to return if\n",
            "    the provided iterable is empty.\n",
            "    With two or more arguments, return the largest argument.\n",
            "\n"
          ]
        }
      ]
    },
    {
      "cell_type": "code",
      "metadata": {
        "colab": {
          "base_uri": "https://localhost:8080/"
        },
        "id": "b6vr_ZJ7Wc2g",
        "outputId": "13bd89dd-9923-43ce-cc3e-d7f0d15f511a"
      },
      "source": [
        "help(sum)"
      ],
      "execution_count": null,
      "outputs": [
        {
          "output_type": "stream",
          "name": "stdout",
          "text": [
            "Help on built-in function sum in module builtins:\n",
            "\n",
            "sum(iterable, start=0, /)\n",
            "    Return the sum of a 'start' value (default: 0) plus an iterable of numbers\n",
            "    \n",
            "    When the iterable is empty, return the start value.\n",
            "    This function is intended specifically for use with numeric values and may\n",
            "    reject non-numeric types.\n",
            "\n"
          ]
        }
      ]
    },
    {
      "cell_type": "code",
      "metadata": {
        "colab": {
          "base_uri": "https://localhost:8080/"
        },
        "id": "HiV6F_VDWjnM",
        "outputId": "40671bce-89b1-4a6d-c7cc-94702c766167"
      },
      "source": [
        "sum((1, 2, 3))"
      ],
      "execution_count": null,
      "outputs": [
        {
          "output_type": "execute_result",
          "data": {
            "text/plain": [
              "6"
            ]
          },
          "metadata": {},
          "execution_count": 11
        }
      ]
    },
    {
      "cell_type": "code",
      "metadata": {
        "id": "UjR35CpXWl2O"
      },
      "source": [
        "def sumall(*args):\n",
        "  return sum(args)"
      ],
      "execution_count": null,
      "outputs": []
    },
    {
      "cell_type": "code",
      "metadata": {
        "colab": {
          "base_uri": "https://localhost:8080/"
        },
        "id": "Xn1d2I6mWpQ8",
        "outputId": "2167a8bb-4074-4bc5-8acb-b760e84b47a6"
      },
      "source": [
        "sumall(1, 2, 3, 4, 5)"
      ],
      "execution_count": null,
      "outputs": [
        {
          "output_type": "execute_result",
          "data": {
            "text/plain": [
              "15"
            ]
          },
          "metadata": {},
          "execution_count": 13
        }
      ]
    },
    {
      "cell_type": "code",
      "metadata": {
        "colab": {
          "base_uri": "https://localhost:8080/"
        },
        "id": "SVjyR051WtcK",
        "outputId": "d29ee787-6b0a-4601-9320-bd1a0842f4b2"
      },
      "source": [
        "s = 'abc'\n",
        "t = [0, 1, 2]\n",
        "u = ('1', '2', '3')\n",
        "zip(s, t)\n",
        "# 그냥 zip만 쓰면 출력이 안됨"
      ],
      "execution_count": null,
      "outputs": [
        {
          "output_type": "execute_result",
          "data": {
            "text/plain": [
              "<zip at 0x7fe371813870>"
            ]
          },
          "metadata": {},
          "execution_count": 18
        }
      ]
    },
    {
      "cell_type": "code",
      "metadata": {
        "colab": {
          "base_uri": "https://localhost:8080/"
        },
        "id": "xQ76QZU-W2uc",
        "outputId": "ca135c2e-16c1-49b9-ba87-d7d83dee2fca"
      },
      "source": [
        "z = zip(s, t)\n",
        "for pair in z:\n",
        "  print(pair)"
      ],
      "execution_count": null,
      "outputs": [
        {
          "output_type": "stream",
          "name": "stdout",
          "text": [
            "('a', 0)\n",
            "('b', 1)\n",
            "('c', 2)\n"
          ]
        }
      ]
    },
    {
      "cell_type": "markdown",
      "metadata": {
        "id": "qWJIlkWGYa6h"
      },
      "source": [
        "튜플들로 구성된 리스트"
      ]
    },
    {
      "cell_type": "code",
      "metadata": {
        "id": "epR0syLZYVNn"
      },
      "source": [
        "z = list(zip(s, t, u))"
      ],
      "execution_count": null,
      "outputs": []
    },
    {
      "cell_type": "code",
      "metadata": {
        "colab": {
          "base_uri": "https://localhost:8080/"
        },
        "id": "t6hF3HopYY9W",
        "outputId": "85525fdf-6115-49b5-f731-bb84a4fff689"
      },
      "source": [
        "z"
      ],
      "execution_count": null,
      "outputs": [
        {
          "output_type": "execute_result",
          "data": {
            "text/plain": [
              "[('a', 0, '1'), ('b', 1, '2'), ('c', 2, '3')]"
            ]
          },
          "metadata": {},
          "execution_count": 21
        }
      ]
    },
    {
      "cell_type": "markdown",
      "metadata": {
        "id": "PU9Us4kDYf_M"
      },
      "source": [
        "dict로 만들기"
      ]
    },
    {
      "cell_type": "code",
      "metadata": {
        "id": "9-BkMIf2YhSZ"
      },
      "source": [
        "d = dict(zip(s, t))"
      ],
      "execution_count": null,
      "outputs": []
    },
    {
      "cell_type": "code",
      "metadata": {
        "colab": {
          "base_uri": "https://localhost:8080/"
        },
        "id": "52_D314EYjaj",
        "outputId": "3b2f98d6-7b56-4d14-cee4-c7a8ec44a8ca"
      },
      "source": [
        "d"
      ],
      "execution_count": null,
      "outputs": [
        {
          "output_type": "execute_result",
          "data": {
            "text/plain": [
              "{'a': 0, 'b': 1, 'c': 2}"
            ]
          },
          "metadata": {},
          "execution_count": 23
        }
      ]
    },
    {
      "cell_type": "code",
      "metadata": {
        "colab": {
          "base_uri": "https://localhost:8080/"
        },
        "id": "hIT0eb8uXFJ3",
        "outputId": "8b3f4dc6-1d57-4018-8585-11c28985889f"
      },
      "source": [
        "for a, b in zip(s, t):\n",
        "  print(a, b)"
      ],
      "execution_count": null,
      "outputs": [
        {
          "output_type": "stream",
          "name": "stdout",
          "text": [
            "a 0\n",
            "b 1\n",
            "c 2\n"
          ]
        }
      ]
    },
    {
      "cell_type": "code",
      "metadata": {
        "colab": {
          "base_uri": "https://localhost:8080/"
        },
        "id": "eYzLDgM0XOQw",
        "outputId": "f5f86f63-2f1d-4297-ebad-35fa56a0a7b1"
      },
      "source": [
        "for a, b, c in zip(s, t, u):\n",
        "  print(a, b, c)"
      ],
      "execution_count": null,
      "outputs": [
        {
          "output_type": "stream",
          "name": "stdout",
          "text": [
            "a 0 1\n",
            "b 1 2\n",
            "c 2 3\n"
          ]
        }
      ]
    },
    {
      "cell_type": "markdown",
      "metadata": {
        "id": "nRJftS8AYO4t"
      },
      "source": [
        "zip으로 2개만 묶을 수 있는 것이 아니라 여러개 묶을 수 있다"
      ]
    },
    {
      "cell_type": "code",
      "metadata": {
        "id": "n0sZZ_AZYtPy"
      },
      "source": [
        "def dot_product(l1, l2):\n",
        "  result = 0\n",
        "  for x, y in zip(l1, l2):\n",
        "    result += x*y\n",
        "  return result"
      ],
      "execution_count": null,
      "outputs": []
    },
    {
      "cell_type": "code",
      "metadata": {
        "colab": {
          "base_uri": "https://localhost:8080/"
        },
        "id": "jpAqNkh3Y_EL",
        "outputId": "ff35bff1-4b7c-476c-af55-ec724395bcdc"
      },
      "source": [
        "dot_product([1, 2, 3], [4, 5, 6])"
      ],
      "execution_count": null,
      "outputs": [
        {
          "output_type": "execute_result",
          "data": {
            "text/plain": [
              "32"
            ]
          },
          "metadata": {},
          "execution_count": 25
        }
      ]
    },
    {
      "cell_type": "markdown",
      "metadata": {
        "id": "G3nAdKl7Z7Bh"
      },
      "source": [
        "zip을 사용하지 않고 구현하려면?"
      ]
    },
    {
      "cell_type": "code",
      "metadata": {
        "id": "bDjFu67AZa4F"
      },
      "source": [
        "def dot_product(l1, l2):\n",
        "  result = 0\n",
        "  for i in range(len(l1)):\n",
        "    result += l1[i]*l2[i]\n",
        "  return result"
      ],
      "execution_count": null,
      "outputs": []
    },
    {
      "cell_type": "code",
      "metadata": {
        "colab": {
          "base_uri": "https://localhost:8080/"
        },
        "id": "rM-7Dmq0Zq3x",
        "outputId": "feb67022-f23d-438b-9a35-6478cb3d72d4"
      },
      "source": [
        "dot_product([1, 2, 3], [4, 5, 6])"
      ],
      "execution_count": null,
      "outputs": [
        {
          "output_type": "execute_result",
          "data": {
            "text/plain": [
              "32"
            ]
          },
          "metadata": {},
          "execution_count": 29
        }
      ]
    },
    {
      "cell_type": "code",
      "metadata": {
        "colab": {
          "base_uri": "https://localhost:8080/"
        },
        "id": "glmySufDaIvQ",
        "outputId": "adeff4cb-4752-41bb-84ea-092be5a3c5bb"
      },
      "source": [
        "for index, element in enumerate('abc'):\n",
        "  print(index, element)"
      ],
      "execution_count": null,
      "outputs": [
        {
          "output_type": "stream",
          "name": "stdout",
          "text": [
            "0 a\n",
            "1 b\n",
            "2 c\n",
            "0 a 0\n",
            "1 b 1\n",
            "2 c 2\n",
            "0 a\n",
            "1 b\n",
            "2 c\n"
          ]
        }
      ]
    },
    {
      "cell_type": "code",
      "metadata": {
        "colab": {
          "base_uri": "https://localhost:8080/"
        },
        "id": "J9poJ9IBayEG",
        "outputId": "e1d97cc3-7d96-4cd3-c57f-f3cd368124a4"
      },
      "source": [
        "for index, element in enumerate(d): #dictonary만들었던 것\n",
        "  print(index, element, d[element]) # element가 key값 # value까지 같이 출력"
      ],
      "execution_count": null,
      "outputs": [
        {
          "output_type": "stream",
          "name": "stdout",
          "text": [
            "0 a 0\n",
            "1 b 1\n",
            "2 c 2\n"
          ]
        }
      ]
    },
    {
      "cell_type": "code",
      "metadata": {
        "colab": {
          "base_uri": "https://localhost:8080/"
        },
        "id": "utqAMlKGa3z1",
        "outputId": "6eed40b6-d354-411c-fbe6-f36c10e22c6b"
      },
      "source": [
        "for key, value in d.items():\n",
        "  print(key, value)"
      ],
      "execution_count": null,
      "outputs": [
        {
          "output_type": "stream",
          "name": "stdout",
          "text": [
            "a 0\n",
            "b 1\n",
            "c 2\n"
          ]
        }
      ]
    },
    {
      "cell_type": "code",
      "metadata": {
        "colab": {
          "base_uri": "https://localhost:8080/"
        },
        "id": "RcEfgLz6a9YA",
        "outputId": "a275405e-54b4-420f-97bf-73970de54b9e"
      },
      "source": [
        "for key in d: #d만 쓰면 key값만\n",
        "  print(key, d[key])"
      ],
      "execution_count": null,
      "outputs": [
        {
          "output_type": "stream",
          "name": "stdout",
          "text": [
            "a 0\n",
            "b 1\n",
            "c 2\n"
          ]
        }
      ]
    },
    {
      "cell_type": "code",
      "metadata": {
        "colab": {
          "base_uri": "https://localhost:8080/"
        },
        "id": "2M2_gZ9sbPPw",
        "outputId": "2d00e1c4-42a1-42c4-84c1-31d444ce27a0"
      },
      "source": [
        "for val in d.values():\n",
        "  print(val)"
      ],
      "execution_count": null,
      "outputs": [
        {
          "output_type": "stream",
          "name": "stdout",
          "text": [
            "0\n",
            "1\n",
            "2\n"
          ]
        }
      ]
    },
    {
      "cell_type": "code",
      "metadata": {
        "colab": {
          "base_uri": "https://localhost:8080/"
        },
        "id": "Iu15VmeLbS73",
        "outputId": "163f7057-e9c8-4299-9a04-dfe01dcdfcba"
      },
      "source": [
        "for index, ele in enumerate(d.items()):\n",
        "  print(index, ele)"
      ],
      "execution_count": null,
      "outputs": [
        {
          "output_type": "stream",
          "name": "stdout",
          "text": [
            "0 ('a', 0)\n",
            "1 ('b', 1)\n",
            "2 ('c', 2)\n"
          ]
        }
      ]
    },
    {
      "cell_type": "code",
      "metadata": {
        "colab": {
          "base_uri": "https://localhost:8080/",
          "height": 190
        },
        "id": "11z3DGGnb1Yc",
        "outputId": "c9851604-2034-45d0-dfc4-3ec062f079e7"
      },
      "source": [
        "for index, key, val in enumerate(d.items()):\n",
        "  print(index, key, val)"
      ],
      "execution_count": null,
      "outputs": [
        {
          "output_type": "error",
          "ename": "ValueError",
          "evalue": "ignored",
          "traceback": [
            "\u001b[0;31m---------------------------------------------------------------------------\u001b[0m",
            "\u001b[0;31mValueError\u001b[0m                                Traceback (most recent call last)",
            "\u001b[0;32m<ipython-input-40-6bf938879be5>\u001b[0m in \u001b[0;36m<module>\u001b[0;34m()\u001b[0m\n\u001b[0;32m----> 1\u001b[0;31m \u001b[0;32mfor\u001b[0m \u001b[0mindex\u001b[0m\u001b[0;34m,\u001b[0m \u001b[0mkey\u001b[0m\u001b[0;34m,\u001b[0m \u001b[0mval\u001b[0m \u001b[0;32min\u001b[0m \u001b[0menumerate\u001b[0m\u001b[0;34m(\u001b[0m\u001b[0md\u001b[0m\u001b[0;34m.\u001b[0m\u001b[0mitems\u001b[0m\u001b[0;34m(\u001b[0m\u001b[0;34m)\u001b[0m\u001b[0;34m)\u001b[0m\u001b[0;34m:\u001b[0m\u001b[0;34m\u001b[0m\u001b[0;34m\u001b[0m\u001b[0m\n\u001b[0m\u001b[1;32m      2\u001b[0m   \u001b[0mprint\u001b[0m\u001b[0;34m(\u001b[0m\u001b[0mindex\u001b[0m\u001b[0;34m,\u001b[0m \u001b[0mkey\u001b[0m\u001b[0;34m,\u001b[0m \u001b[0mval\u001b[0m\u001b[0;34m)\u001b[0m\u001b[0;34m\u001b[0m\u001b[0;34m\u001b[0m\u001b[0m\n",
            "\u001b[0;31mValueError\u001b[0m: not enough values to unpack (expected 3, got 2)"
          ]
        }
      ]
    },
    {
      "cell_type": "code",
      "metadata": {
        "colab": {
          "base_uri": "https://localhost:8080/"
        },
        "id": "DPR7DuCLfVht",
        "outputId": "654c6348-bfd6-4819-c1fa-6da0bf9a2855"
      },
      "source": [
        "for index, (key, val) in enumerate(d.items()):\n",
        "  print(index, key, val)"
      ],
      "execution_count": null,
      "outputs": [
        {
          "output_type": "stream",
          "name": "stdout",
          "text": [
            "0 a 0\n",
            "1 b 1\n",
            "2 c 2\n"
          ]
        }
      ]
    },
    {
      "cell_type": "code",
      "metadata": {
        "colab": {
          "base_uri": "https://localhost:8080/"
        },
        "id": "lNllCUeigKbG",
        "outputId": "cad00442-7c90-4168-87ae-52eb485bf2d8"
      },
      "source": [
        "for index, item in enumerate(d.items()):\n",
        "  print(index, item[0], item[1])"
      ],
      "execution_count": null,
      "outputs": [
        {
          "output_type": "stream",
          "name": "stdout",
          "text": [
            "0 a 0\n",
            "1 b 1\n",
            "2 c 2\n"
          ]
        }
      ]
    },
    {
      "cell_type": "markdown",
      "metadata": {
        "id": "WXY1Jbq1g-zv"
      },
      "source": [
        "새로운 사전을 만들어서 기존 사전 업데이트"
      ]
    },
    {
      "cell_type": "code",
      "metadata": {
        "id": "roEVRWQ_ghxP"
      },
      "source": [
        "d1 = {'c':3, 'd':4}"
      ],
      "execution_count": null,
      "outputs": []
    },
    {
      "cell_type": "code",
      "metadata": {
        "id": "YJBhAp6uglyc"
      },
      "source": [
        "d.update(d1)"
      ],
      "execution_count": null,
      "outputs": []
    },
    {
      "cell_type": "code",
      "metadata": {
        "colab": {
          "base_uri": "https://localhost:8080/"
        },
        "id": "jHiTgavZgzU1",
        "outputId": "341f087f-5e40-4499-9244-8e93d3691b87"
      },
      "source": [
        "d"
      ],
      "execution_count": null,
      "outputs": [
        {
          "output_type": "execute_result",
          "data": {
            "text/plain": [
              "{'a': 0, 'b': 1, 'c': 3, 'd': 4}"
            ]
          },
          "metadata": {},
          "execution_count": 46
        }
      ]
    },
    {
      "cell_type": "markdown",
      "metadata": {
        "id": "I3yvvrZrg4bt"
      },
      "source": [
        "기존에는 c의 val값이 2였는데 3으로 바뀌었고, d의 값이 4로 추가됨"
      ]
    },
    {
      "cell_type": "markdown",
      "metadata": {
        "id": "zrdjrG0BhA6o"
      },
      "source": [
        "튜플들의 리스트를 이용하여 기존 사전 업데이트"
      ]
    },
    {
      "cell_type": "code",
      "metadata": {
        "id": "dvjy3fqnhDPQ"
      },
      "source": [
        "d.update([('e', 5), ('a', 1)])"
      ],
      "execution_count": null,
      "outputs": []
    },
    {
      "cell_type": "code",
      "metadata": {
        "colab": {
          "base_uri": "https://localhost:8080/"
        },
        "id": "NJWqDqnChhoe",
        "outputId": "77c8b724-16f0-4094-f96a-3474bcd8f557"
      },
      "source": [
        "d"
      ],
      "execution_count": null,
      "outputs": [
        {
          "output_type": "execute_result",
          "data": {
            "text/plain": [
              "{'a': 1, 'b': 1, 'c': 3, 'd': 4, 'e': 5}"
            ]
          },
          "metadata": {},
          "execution_count": 52
        }
      ]
    },
    {
      "cell_type": "code",
      "metadata": {
        "id": "rPrya3N6hunp"
      },
      "source": [
        "directory = dict()"
      ],
      "execution_count": 2,
      "outputs": []
    },
    {
      "cell_type": "code",
      "metadata": {
        "id": "lX6igL3lhwtb"
      },
      "source": [
        "directory['gil-dong', 'hong'] = '01000000'"
      ],
      "execution_count": 3,
      "outputs": []
    },
    {
      "cell_type": "code",
      "metadata": {
        "colab": {
          "base_uri": "https://localhost:8080/"
        },
        "id": "LxjgOXXih7Av",
        "outputId": "a7228cf3-1fb5-43d6-9759-0f6a9519a0ab"
      },
      "source": [
        "directory"
      ],
      "execution_count": null,
      "outputs": [
        {
          "output_type": "execute_result",
          "data": {
            "text/plain": [
              "{('gil-dong', 'hong'): '01000000'}"
            ]
          },
          "metadata": {},
          "execution_count": 57
        }
      ]
    },
    {
      "cell_type": "code",
      "metadata": {
        "id": "6Wlhv2mBiAjs"
      },
      "source": [
        "directory['gildong', 'kim'] = '010293840'"
      ],
      "execution_count": 4,
      "outputs": []
    },
    {
      "cell_type": "code",
      "metadata": {
        "colab": {
          "base_uri": "https://localhost:8080/"
        },
        "id": "LrBxuWYRiEZg",
        "outputId": "03a554f1-6f9a-4657-ae10-47ab3e192e98"
      },
      "source": [
        "directory"
      ],
      "execution_count": null,
      "outputs": [
        {
          "output_type": "execute_result",
          "data": {
            "text/plain": [
              "{('gil-dong', 'hong'): '01000000', ('gildong', 'kim'): '010293840'}"
            ]
          },
          "metadata": {},
          "execution_count": 68
        }
      ]
    },
    {
      "cell_type": "code",
      "metadata": {
        "colab": {
          "base_uri": "https://localhost:8080/"
        },
        "id": "Oqf4LC4yiGJM",
        "outputId": "c12cb3c8-40f1-42c8-dfda-464480f74ffd"
      },
      "source": [
        "for key, val in d.items():\n",
        "  print(key, val)"
      ],
      "execution_count": null,
      "outputs": [
        {
          "output_type": "stream",
          "name": "stdout",
          "text": [
            "a 1\n",
            "b 1\n",
            "c 3\n",
            "d 4\n",
            "e 5\n",
            "('gil-dong', 'hong') 01000000\n",
            "('gildong', 'kim') 010293840\n"
          ]
        }
      ]
    },
    {
      "cell_type": "code",
      "metadata": {
        "colab": {
          "base_uri": "https://localhost:8080/"
        },
        "id": "Sk4Vfb6MiMUo",
        "outputId": "f7277368-9c0f-457b-f36c-3fba6e2acc3a"
      },
      "source": [
        "for (last, first), val in directory.items():\n",
        "  print(last, first, val)"
      ],
      "execution_count": 7,
      "outputs": [
        {
          "output_type": "stream",
          "name": "stdout",
          "text": [
            "gil-dong hong 01000000\n",
            "gildong kim 010293840\n"
          ]
        }
      ]
    },
    {
      "cell_type": "code",
      "metadata": {
        "colab": {
          "base_uri": "https://localhost:8080/",
          "height": 191
        },
        "id": "4ww0sLDjisTS",
        "outputId": "bbe164dc-a932-4ae9-98cd-85c4f73e962d"
      },
      "source": [
        "for last, first, val in directory.items():\n",
        "  print(key, val)"
      ],
      "execution_count": 5,
      "outputs": [
        {
          "output_type": "error",
          "ename": "ValueError",
          "evalue": "ignored",
          "traceback": [
            "\u001b[0;31m---------------------------------------------------------------------------\u001b[0m",
            "\u001b[0;31mValueError\u001b[0m                                Traceback (most recent call last)",
            "\u001b[0;32m<ipython-input-5-4365db27cd44>\u001b[0m in \u001b[0;36m<module>\u001b[0;34m()\u001b[0m\n\u001b[0;32m----> 1\u001b[0;31m \u001b[0;32mfor\u001b[0m \u001b[0mlast\u001b[0m\u001b[0;34m,\u001b[0m \u001b[0mfirst\u001b[0m\u001b[0;34m,\u001b[0m \u001b[0mval\u001b[0m \u001b[0;32min\u001b[0m \u001b[0mdirectory\u001b[0m\u001b[0;34m.\u001b[0m\u001b[0mitems\u001b[0m\u001b[0;34m(\u001b[0m\u001b[0;34m)\u001b[0m\u001b[0;34m:\u001b[0m\u001b[0;34m\u001b[0m\u001b[0;34m\u001b[0m\u001b[0m\n\u001b[0m\u001b[1;32m      2\u001b[0m   \u001b[0mprint\u001b[0m\u001b[0;34m(\u001b[0m\u001b[0mkey\u001b[0m\u001b[0;34m,\u001b[0m \u001b[0mval\u001b[0m\u001b[0;34m)\u001b[0m\u001b[0;34m\u001b[0m\u001b[0;34m\u001b[0m\u001b[0m\n",
            "\u001b[0;31mValueError\u001b[0m: not enough values to unpack (expected 3, got 2)"
          ]
        }
      ]
    },
    {
      "cell_type": "code",
      "metadata": {
        "id": "Mt8JUTLzi8se"
      },
      "source": [
        "t = (3, 2, 1, 5, 6, 4, 7)"
      ],
      "execution_count": null,
      "outputs": []
    },
    {
      "cell_type": "code",
      "metadata": {
        "colab": {
          "base_uri": "https://localhost:8080/"
        },
        "id": "FzHFZQoojBvL",
        "outputId": "e2658c5f-35fc-4fbc-88b9-04efef63c667"
      },
      "source": [
        "sorted(t)"
      ],
      "execution_count": null,
      "outputs": [
        {
          "output_type": "execute_result",
          "data": {
            "text/plain": [
              "[1, 2, 3, 4, 5, 6, 7]"
            ]
          },
          "metadata": {},
          "execution_count": 73
        }
      ]
    },
    {
      "cell_type": "code",
      "metadata": {
        "colab": {
          "base_uri": "https://localhost:8080/"
        },
        "id": "Z4Dlv8UFjB0Q",
        "outputId": "4a6d0152-2a3c-4b20-c430-9578b76b0227"
      },
      "source": [
        "reversed(t)"
      ],
      "execution_count": null,
      "outputs": [
        {
          "output_type": "execute_result",
          "data": {
            "text/plain": [
              "<reversed at 0x7fe3717b6690>"
            ]
          },
          "metadata": {},
          "execution_count": 74
        }
      ]
    },
    {
      "cell_type": "code",
      "metadata": {
        "colab": {
          "base_uri": "https://localhost:8080/"
        },
        "id": "f10oOL1SjLYP",
        "outputId": "dbfa60e9-79ab-4ced-f640-736c2b9c1310"
      },
      "source": [
        "for x in reversed(t):\n",
        "  print(x)"
      ],
      "execution_count": null,
      "outputs": [
        {
          "output_type": "stream",
          "name": "stdout",
          "text": [
            "7\n",
            "4\n",
            "6\n",
            "5\n",
            "1\n",
            "2\n",
            "3\n"
          ]
        }
      ]
    }
  ]
}